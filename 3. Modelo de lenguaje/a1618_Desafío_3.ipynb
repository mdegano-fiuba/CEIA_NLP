{
  "nbformat": 4,
  "nbformat_minor": 0,
  "metadata": {
    "colab": {
      "provenance": [],
      "toc_visible": true,
      "gpuType": "T4"
    },
    "kernelspec": {
      "name": "python3",
      "display_name": "Python 3"
    },
    "language_info": {
      "name": "python"
    },
    "accelerator": "GPU"
  },
  "cells": [
    {
      "cell_type": "markdown",
      "source": [
        "# CEIA -NLP - Desafío 3 - Modelo de lenguaje"
      ],
      "metadata": {
        "id": "4sx1ePTNRGzp"
      }
    },
    {
      "cell_type": "markdown",
      "source": [
        "16Co2024 - Myrna Lorena Degano - a1618"
      ],
      "metadata": {
        "id": "Dhix7V-iRLB2"
      }
    },
    {
      "cell_type": "code",
      "source": [
        "import urllib.request\n",
        "import re\n",
        "import pickle\n",
        "import gc\n",
        "\n",
        "import seaborn as sns\n",
        "import numpy as np\n",
        "import bs4 as bs\n",
        "import pandas as pd\n",
        "import matplotlib.pyplot as plt\n",
        "import keras.backend as K\n",
        "\n",
        "from collections import Counter\n",
        "from scipy.special import softmax\n",
        "from sklearn.model_selection import train_test_split\n",
        "from tensorflow import keras\n",
        "from tensorflow.keras import layers\n",
        "from keras.utils import to_categorical\n",
        "from keras.models import Model, Sequential\n",
        "from keras.layers import Dense, LSTM, Embedding, Dropout, Input, TimeDistributed, CategoryEncoding, SimpleRNN, GRU, Bidirectional\n",
        "from tensorflow.keras.losses import SparseCategoricalCrossentropy\n",
        "from tensorflow.keras.preprocessing.text import Tokenizer\n",
        "from tensorflow.keras.preprocessing.text import text_to_word_sequence\n",
        "from tensorflow.keras.utils import pad_sequences\n",
        "from tensorflow.keras.optimizers import RMSprop\n",
        "\n"
      ],
      "metadata": {
        "id": "T8jBfdHqAucP"
      },
      "execution_count": 79,
      "outputs": []
    },
    {
      "cell_type": "markdown",
      "source": [
        "**Consigna**\n",
        "- Seleccionar un corpus de texto sobre el cual entrenar el modelo de lenguaje.\n",
        "- Realizar el pre-procesamiento adecuado para tokenizar el corpus, estructurar el dataset y separar entre datos de entrenamiento y validación.\n",
        "- Proponer arquitecturas de redes neuronales basadas en unidades recurrentes para implementar un modelo de lenguaje.\n",
        "- Con el o los modelos que consideren adecuados, generar nuevas secuencias a partir de secuencias de contexto con las estrategias de greedy search y beam search determístico y estocástico. En este último caso observar el efecto de la temperatura en la generación de secuencias.\n",
        "\n",
        "\n",
        "*Sugerencias*\n",
        "- Durante el entrenamiento, guiarse por el descenso de la perplejidad en los datos de validación para finalizar el entrenamiento. Para ello se provee un callback.\n",
        "- Explorar utilizar SimpleRNN (celda de Elman), LSTM y GRU.\n",
        "- rmsprop es el optimizador recomendado para la buena convergencia. No obstante se pueden explorar otros."
      ],
      "metadata": {
        "id": "1k7-GqxfTN3w"
      }
    },
    {
      "cell_type": "markdown",
      "source": [
        "### Conjunto de datos"
      ],
      "metadata": {
        "id": "-IUuhFn0A0ge"
      }
    },
    {
      "cell_type": "markdown",
      "source": [
        "Tomo como corpus para el desafío el cuento \"El Gato Negro\" de Edgar Allan Poe."
      ],
      "metadata": {
        "id": "jJ-lyJ164ttB"
      }
    },
    {
      "cell_type": "markdown",
      "source": [
        "![image.png](data:image/png;base64,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)"
      ],
      "metadata": {
        "id": "olmtydGkLJPh"
      }
    },
    {
      "cell_type": "markdown",
      "source": [
        "Con este mismo corpus, voy a explorar diferentes modelos de lenguaje por palabras."
      ],
      "metadata": {
        "id": "TBWzAw21Goc-"
      }
    },
    {
      "cell_type": "code",
      "source": [
        "raw_html = urllib.request.urlopen('https://www.textos.info/edgar-allan-poe/el-gato-negro/ebook')\n",
        "raw_html = raw_html.read()\n",
        "\n",
        "# Parsear artículo, 'lxml' es el parser a utilizar\n",
        "article_html = bs.BeautifulSoup(raw_html, 'lxml')\n",
        "\n",
        "# Encontrar todos los párrafos del HTML (bajo el tag <p>)\n",
        "# y tenerlos disponible como lista\n",
        "article_paragraphs = article_html.find_all('p')\n",
        "\n",
        "article_text = ''\n",
        "\n",
        "for para in article_paragraphs:\n",
        "    article_text += para.text + ' '\n",
        "\n",
        "# pasar todo el texto a minúscula\n",
        "article_text = article_text.lower()\n"
      ],
      "metadata": {
        "id": "yih7FKwGRLPT"
      },
      "execution_count": 80,
      "outputs": []
    },
    {
      "cell_type": "code",
      "source": [
        "# en article text se encuentra el texto de todo el libro\n",
        "article_text"
      ],
      "metadata": {
        "colab": {
          "base_uri": "https://localhost:8080/",
          "height": 122
        },
        "id": "3QDp3hMmSwYC",
        "outputId": "de1d936b-a95c-437d-bf4f-475f8fcb881e"
      },
      "execution_count": 81,
      "outputs": [
        {
          "output_type": "execute_result",
          "data": {
            "text/plain": [
              "' no espero ni solicito fe para la narración tan sencilla como\\r\\nextravagante que está a punto de brotar de mi pluma. locura sería en\\r\\nverdad el esperarlo, pues que mis propios sentidos rechazan su\\r\\nevidencia. sin embargo, no estoy loco, ni estoy soñando, de seguro. mas\\r\\ndebo morir mañana y quiero hoy aligerar el peso de mi alma. mi propósito\\r\\ninmediato es presentar llana y sucintamente a los ojos del lector, sin\\r\\ncomentario de ninguna clase, una serie de simples acontecimientos\\r\\ndomésticos. en sus consecuencias, estos acontecimientos me han\\r\\naterrorizado, me han torturado, me han deshecho. a pesar de todo, no\\r\\ntrataré de interpretarlos. para mí sólo han representado el horror; para\\r\\nmuchos otros serán quizá no tanto terribles como baroques. es posible\\r\\nque se encuentre después algún entendimiento que reduzca mi fantasma a\\r\\nlos límites de lo vulgar; algún entendimiento más sereno, más lógico y\\r\\nmucho menos excitable que el mío, capaz de percibir en las\\r\\ncircunstancias que expreso lleno de pavor, simplemente la sucesión\\r\\nordinaria de las causas y efectos más naturales. desde mi niñez híceme notar por la docilidad y ternura de mi\\r\\ntemperamento. la bondad de mi corazón revestía caracteres de delicadeza\\r\\ntan exquisita, que me hacía el blanco de las burlas de mis compañeros.\\r\\nera particularmente afecto a los animales, y mis padres condescendían\\r\\ncon esta inclinación procurándome gran diversidad de favoritos, a los\\r\\nque consagraba la mayor parte de mi tiempo; y nunca era tan feliz como\\r\\ncuando les alimentaba y acariciaba. esta peculiaridad de mi carácter\\r\\naumentó en la adolescencia, y aun en la virilidad derivaba de aquella\\r\\nfuente muchos de mis mejores goces. apenas necesito explicar a los que\\r\\nhayan sentido afección por algún perro fiel e inteligente la intensidad\\r\\nde placer que produce este sentimiento. existe en el amor generoso y\\r\\nabnegado de un irracional algo que va directamente al corazón de aquel\\r\\nque haya tenido ocasión de comprobar a menudo la ruin amistad y la\\r\\nlealtad tan deleznable del hombre. me casé joven y tuve la suerte de encontrar en mi mujer inclinaciones\\r\\nsemejantes a las mías. observando mi afición por los animales\\r\\ndomésticos, no perdía ella ocasión de procurarse los más lindos.\\r\\nteníamos pájaros, peces dorados, un perro fino, conejos, un pequeño mono\\r\\ny un gato. era éste un enorme y hermoso animal, enteramente negro, e inteligente\\r\\nhasta un grado excepcional. al ocuparnos de su inteligencia, mi mujer,\\r\\nque tenía gran fondo de superstición, hacía frecuentes alusiones al\\r\\nantiguo concepto popular que considera brujas disfrazadas a todos los\\r\\ngatos negros. no que prestara ella fe a esta creencia; y si menciono la\\r\\nidea, es por la sencilla razón de que la recuerdo ahora de pasada. plutón, que así se llamaba el gato, era el preferido entre los diversos\\r\\nfavoritos y mi compañero habitual de juegos. solamente yo le alimentaba,\\r\\ny él acostumbraba seguirme por todas partes dentro de la casa; siéndome\\r\\ndifícil evitar que hiciera lo propio también por las calles. nuestra amistad continuó así por varios años, durante los cuales, y a\\r\\nimpulsos del demonio intemperancia (me ruborizo al confesarlo), mi\\r\\ntemperamento y mi carácter sufrieron radical alteración hacia el mal.\\r\\ndía por día hacíame más taciturno e irritable, y guardaba menos\\r\\nconsideración a los demás. aun me permitía usar con mi mujer un lenguaje\\r\\ndestemplado, llegando después hasta la violencia personal. mis favoritos\\r\\nhubieron de sentir, naturalmente, este cambio de disposición. no\\r\\nsolamente les descuidaba, sino que abusaba de ellos. todavía conservaba\\r\\nplutón, sin embargo, ciertas prerrogativas que me impedían maltratarle,\\r\\ncomo lo hacía sin escrúpulo de ninguna clase con el mono, los conejos y\\r\\naun el perro, cuando por cariño o por casualidad se atravesaban en mi\\r\\ncamino. pero la enfermedad avanzaba—¡el alcohol es semejante a una\\r\\nenfermedad!—y al fin hasta plutón que se volvía viejo, e impertinente\\r\\nen consecuencia, comenzó a sufrir los efectos de mi mal temperamento. una noche en que regresaba a casa muy embriagado, después de una orgía\\r\\nen una de mis guaridas habituales en la ciudad, se me ocurrió que el\\r\\ngato evitaba mi presencia. cogíle entonces; y, en su terror por mi\\r\\nviolencia, me infirió una pequeña herida mordiéndome la mano.\\r\\ninstantáneamente se apoderó de mí una furia demoniaca. no me conocía a\\r\\nmí mismo. mi alma prístina parecía haber escapado en aquel momento de mi\\r\\ncuerpo; y una maldad diabólica, nutrida por la ginebra, estremecía todas\\r\\nmis fibras. saqué un cortaplumas del bolsillo de mi chaleco, abríle, y\\r\\ndeliberadamente arranqué de su órbita uno de los ojos del animal. ¡me\\r\\navergüenzo, me quemo, me horrorizo, al escribir esta abominable\\r\\natrocidad! cuando al día siguiente volví a la razón, después de haber dormido los\\r\\nhumos de la orgía nocturna, experimenté un sentimiento mitad de horror\\r\\nmitad de remordimiento por el crimen cometido; pero era apenas un\\r\\nsentimiento débil y equívoco que no llegó a conmover mi ánima. me\\r\\nsumergí de nuevo en los excesos y ahogué pronto en vino la memoria de mi\\r\\nhazaña. al mismo tiempo el gato se recobraba lentamente. el hueco vacío del ojo\\r\\npresentaba, es verdad, terrible aspecto; pero el animal no parecía\\r\\nsufrir ningún dolor. iba y venía por la casa como de costumbre; mas,\\r\\ncomo era de esperarse, huía aterrorizado a mi aproximación. tenía yo\\r\\ntodavía bastante corazón para sentirme apenado por esta evidente prueba\\r\\nde desafecto de parte de un ser que tanto me había amado en otro tiempo.\\r\\npero este sentimiento se convirtió pronto en irritación. y se presentó\\r\\nentonces, para confirmar mi depravación final e irrevocable, el espíritu\\r\\nde perversidad. de este espíritu no se ocupa la filosofía. sin embargo,\\r\\nno estoy tan cierto de la existencia de mi alma como de que la\\r\\nperversidad es uno de los impulsos primitivos del corazón humano: una de\\r\\nlas facultades primordiales e indivisibles que definen la orientación\\r\\ndel carácter del hombre. ¿quién no se ha sorprendido cien veces\\r\\ncometiendo alguna acción vil y torpe por la sola razón de que no\\r\\ndebería hacerlo? ¿no existe acaso en nosotros, cierta perpetua\\r\\ninclinación a violar la ley, contra todo el torrente de nuestro buen\\r\\ncriterio, y sólo porque comprendemos que tiene razón de ser? el espíritu\\r\\nde perversidad, decía, vino a poner el colmo a mi depravación. aquella\\r\\nansia infatigable del alma de vejarse a sí misma, de violentar su\\r\\npropia naturaleza, de hacer el mal por puro gusto, me impulsaba continua\\r\\ny tenazmente a consumar el daño que había infligido al inofensivo\\r\\nanimal. una mañana, a sangre fría, pasé un lazo a su cuello y lo colgué\\r\\nde la rama de un árbol; lo ahorqué con lágrimas que corrían de mis ojos\\r\\ny el remordimiento más amargo que laceraba mi corazón; lo ahorqué\\r\\nporque sabía que me había amado y porque sentía que no me había dado\\r\\nmotivo de ofensa; lo ahorqué porque comprendía que al hacerlo así\\r\\ncometía un pecado, un pecado mortal que exponía mi alma a encontrarse,\\r\\nsi tal era posible, más allá de la gracia infinita del dios más\\r\\nmisericordioso y más terrible. en la noche del día en que cometí esta crueldad, desperté a los gritos\\r\\nde incendio. las cortinas de mi cama estaban convertidas en llamas. toda\\r\\nla casa ardía. con gran trabajo pudimos escapar de esta conflagración mi\\r\\nmujer, mi criada y yo. todas mis riquezas desaparecieron\\r\\nrepentinamente, y desde entonces me entregué a la desesperación. estoy por encima de la flaqueza de establecer relación alguna de causa y\\r\\nefecto entre el desastre y la atrocidad cometida. pero refiero una\\r\\ncadena de acontecimientos y no quiero dejar ningún eslabón incompleto.\\r\\nal día siguiente del incendio visité las ruinas. todos los muros, con\\r\\nexcepción de uno, se habían desplomado. el que continuaba en pie era la\\r\\npared no muy gruesa de una habitación situada en el centro de la casa, y\\r\\ncontra la cual descansaba antes la cabecera de mi lecho. el estuco había\\r\\nresistido allí en gran parte la acción del fuego, hecho que atribuí a su\\r\\nreciente aplicación. densa muchedumbre se había apiñado cerca de este\\r\\nmuro, y muchas personas parecían examinar cierta parte con viva y\\r\\nminuciosa atención. las palabras \"¡extraño!\" \"¡singular!\" excitaron mi\\r\\ncuriosidad. me aproximé, y pude observar la figura de un gato\\r\\ngigantesco grabado como al bajo relieve sobre la blanca superficie. la\\r\\nimpresión se había fijado allí con detalles verdaderamente maravillosos.\\r\\nveíase una cuerda al rededor del cuello del animal. cuando se presentó por primera vez ante mis ojos esta aparición—pues\\r\\ndifícilmente podía considerarla de otro modo—mi sorpresa y mi terror\\r\\nfueron extremados. pero al fin vino la reflexión en mi ayuda. recordé\\r\\nque había ahorcado al gato en un jardín contiguo a la casa. a la voz de\\r\\nfuego, el jardín se llenó de gente inmediatamente; y una de aquellas\\r\\npersonas cortó sin duda la cuerda de que pendía el animal, arrojándolo\\r\\na mi aposento por alguna ventana abierta. probablemente esto se hizo con\\r\\nel propósito de despertarme. el desplome de los otros muros comprimió\\r\\nseguramente contra el estuco fresco a la víctima de mi crueldad; y la\\r\\ncal de la mezcla, combinada con el amoniaco del cuerpo, y por efecto de\\r\\nlas llamas, había producido la figura que allí aparecía. a pesar de que tranquilicé prontamente mi razón, ya que no mi\\r\\nconciencia, acerca del hecho sorprendente que acabo de manifestar, no\\r\\ndejó por ello de hacer profunda impresión en mi mente. durante largos\\r\\nmeses no pude librarme del fantasma del gato; y en este período se\\r\\napoderó también de mi espíritu cierto vago sentimiento que se asemejaba\\r\\nal remordimiento aunque en realidad no lo fuera. llegué hasta deplorar\\r\\nla pérdida del animal y a buscar a mi alrededor, en los abyectos lugares\\r\\nque frecuentaba habitualmente, otro favorito de la misma especie y hasta\\r\\ncierto punto de apariencia semejante para reemplazarle. una noche en que me hallaba sentado, medio embrutecido, en uno de\\r\\naquellos antros de infamia, atrajo repentinamente mi atención un objeto\\r\\nnegro que reposaba en lo alto de uno de los enormes barriles de ginebra\\r\\no de ron que constituían el principal mueblaje del departamento. había\\r\\nestado mirando fijamente por varios minutos la parte superior del\\r\\nbarril, y lo que causaba mi mayor sorpresa era la circunstancia de no\\r\\nhaber advertido antes el objeto en cuestión. acerquéme, y le toqué. era\\r\\nun gato negro, muy grande, tan grande como plutón y semejante a él en\\r\\ntodos sus detalles con excepción de uno solo. plutón no tenía un pelo\\r\\nblanco en ninguna parte del cuerpo, mientras este gato tenía un gran\\r\\ngrupo de manchas blancas de forma indefinida que le cubría casi todo el\\r\\npecho. al tocarle yo, se levantó prontamente, comenzó a hilar de contento, se\\r\\nrestregó contra mi mano, y pareció deleitarse con mi atención. éste era\\r\\npues el ser que andaba yo tratando de encontrar. inmediatamente propuse\\r\\nsu compra al tabernero, quien manifestó no ser su dueño: no conocía al\\r\\ngato; jamás lo había visto antes. continué acariciándole, y cuando me preparaba a regresar a mi domicilio,\\r\\nel animal mostró disposición de acompañarme. le permití hacerlo así,\\r\\ndeteniéndome de vez en cuando a darle palmaditas antes de proseguir.\\r\\ncuando llegamos a la casa se domesticó inmediatamente, haciendo al punto\\r\\ngrandes migas con mi mujer. por lo que a mí toca, pronto sentí despertarse dentro de mí cierta\\r\\nantipatía por el animal. era justamente lo contrario de lo que esperaba;\\r\\npero, no sé cómo ni por qué, su evidente afección me repugnaba y me\\r\\nhastiaba. poco a poco este sentimiento de tedio y repugnancia se\\r\\nconvirtió en odio acerbo. evitaba al animal; pero cierta sensación de\\r\\nvergüenza y el recuerdo de mi crueldad anterior me impedían maltratarlo.\\r\\ndurante varias semanas no lo golpeé, ni lo traté con violencia en forma\\r\\nalguna; pero gradualmente, muy gradualmente, llegué a mirarlo con\\r\\naversión intolerable, y a huir en silencio de su odiosa presencia como\\r\\nde un hálito pestilente. lo que aumentó indudablemente mi aversión por el animal fué el\\r\\ndescubrimiento, a la mañana siguiente de haberle traído a casa, de que,\\r\\na semejanza de plutón, se hallaba privado de un ojo. esta circunstancia,\\r\\nsin embargo, lo hizo más caro a mi mujer, quien, como dije antes, poseía\\r\\nen alto grado aquella humanidad de sentimientos que había sido en otro\\r\\ntiempo uno de mis rasgos distintivos y fuente de muchos sencillos y\\r\\npuros placeres. con mi odio por el gato parecía aumentar, sin embargo, su predilección\\r\\npor mí. seguía mis pasos con pertinacia tal que sería difícil hacer\\r\\ncomprender al lector. dondequiera que me sentase se acurrucaba bajo la\\r\\nsilla o saltaba sobre mis rodillas cubriéndome de sus repugnantes\\r\\ncaricias. si me levantaba a pasear, se metía entre mis pies casi\\r\\nhaciéndome caer; o clavando en mis vestidos sus largas y afiladas\\r\\ngarras, se encaramaba de este modo hasta mi pecho. en tales momentos,\\r\\naun cuando hubiera deseado aplastarlo de un golpe, sentíame cohibido\\r\\npara hacerlo, parte por el recuerdo de mi crimen anterior, mas\\r\\nprincipalmente, dejadme confesarlo al fin, por el terror absoluto que\\r\\nme inspiraba el animal. este terror no era precisamente de daño físico; y sin embargo, no sabría\\r\\ncómo definirlo. me siento casi avergonzado de confesar (sí, aun en esta\\r\\ncelda de criminal, estoy casi avergonzado de confesar) que el espanto y\\r\\nel horror que el gato me inspiraba se aumentaban por una quimera de lo\\r\\nmás fantástica que es posible imaginar. mi mujer me había llamado la\\r\\natención más de una vez sobre la índole de la mancha de pelo blanco de\\r\\nque he hablado, y que constituía la única diferencia visible entre este\\r\\nextraño animal y el que yo había ahorcado. el lector recordará que esta\\r\\nmarca, aunque grande, era al principio indefinida; mas por pequeños\\r\\ngrados, grados casi imperceptibles, y que mi razón luchó mucho tiempo\\r\\npor rechazar como fantasías, había asumido al fin rigurosa claridad de\\r\\nlíneas. representaba ahora un objeto que me estremezco de nombrar; y por\\r\\neso, sobre todo, aborrecía y temía, y me habría librado del monstruo de\\r\\nbuena gana, si me hubiera atrevido; representaba ahora, decía, la\\r\\nimagen de algo espantoso, una cosa horrible, ¡el patíbulo!—¡oh,\\r\\nlúgubre y funesta máquina de horror y de crimen, de agonía y de muerte! y me encontraba yo verdaderamente desventurado, más allá de los límites\\r\\nde miseria que es dado soportar a la pobre humanidad. ¡y había de ser\\r\\nuna bestia irracional, a cuyo semejante destruí con menosprecio; había\\r\\nde ser una bestia irracional quien me causara a mí, a mí, un hombre,\\r\\nformado a imagen del supremo dios, este sufrimiento intolerable! ¡ah!\\r\\n¡ni de día ni de noche volví jamás a saborear la bendición del descanso!\\r\\n¡durante el día la bestia no me dejaba solo un momento; y en la noche\\r\\ndespertaba a cada instante de sueños de terror insuperable para sentir\\r\\nsobre mi rostro el ardiente aliento de la cosa, y su flácido peso\\r\\noprimiendo eternamente mi corazón como pesadilla encarnada que no tenía\\r\\nel poder de sacudir! bajo la presión de tortura semejante sucumbieron los pocos restos del\\r\\nbien dentro de mí. los malos pensamientos eran mi sola compañía, los más\\r\\nnegros y depravados pensamientos. la acostumbrada irritabilidad de mi\\r\\ncarácter aumentó hasta el aborrecimiento de todas las cosas y de toda la\\r\\nhumanidad; mientras mi mujer, sin una queja, era ¡ay de mí! la víctima\\r\\ndiaria y paciente de los súbitos, frecuentes e incontenibles arranques\\r\\nde furia a que entonces me abandonaba ciegamente. un día me acompañaba ella en algún recorrido casero por los sótanos del\\r\\nviejo edificio que nuestra pobreza nos compelía a habitar. el gato me\\r\\nseguía por las escaleras, y haciéndome casi precipitar, me exasperó\\r\\nhasta la locura. cogiendo un hacha, y olvidando en medio de mi ira el\\r\\nterror infantil que hasta entonces había detenido mi mano, asesté un\\r\\ngolpe al animal, que le habría sido fatal instantáneamente a caer como\\r\\nyo lo deseaba. pero la mano de mi mujer desvió el golpe. arrastrado por\\r\\nsu intervención a ira más que demoniaca, desasí el brazo que ella me\\r\\nsujetaba y hundí el hacha en su cabeza. cayó muerta en el sitio, sin un\\r\\ngemido. cometido el horroroso asesinato, me dediqué sin tardanza y con entera\\r\\ndeliberación a la tarea de ocultar el cadáver. sabía bien que no podría\\r\\nsacarlo fuera de la casa, ni de día ni de noche, sin correr el riesgo de\\r\\nser observado por los vecinos. diversos proyectos se presentaron a mi\\r\\nimaginación. a veces pensaba en cortar el cuerpo en menudos fragmentos y\\r\\nhacerlos desaparecer por medio del fuego. otras, resolvía cavar una\\r\\nsepultura en el suelo del sótano. luego, deliberaba sobre si sería\\r\\nconveniente arrojarlo al pozo del patio; o empacarlo como mercadería en\\r\\nun cajón con los requisitos acostumbrados, y buscar un mozo de cuerda\\r\\nque lo sacara fuera de la casa. finalmente di con lo que me pareció\\r\\nexpediente mejor que todos los anteriores. determiné emparedarlo en el\\r\\nsótano, como se dice que hacían con sus víctimas los monjes de la edad\\r\\nmedia. la cueva se adaptaba muy bien para tal objeto. sus muros estaban\\r\\nconstruídos con gran solidez, y recientemente habían sido revocados con\\r\\nuna mezcla que la humedad de la atmósfera no había dejado endurecer.\\r\\nexistía, además, en uno de los muros una protuberancia causada por\\r\\ncierta falsa chimenea u hogar que se había rellenado para nivelarla con\\r\\nel resto del sótano. no puse en duda el que fácilmente se podría remover\\r\\nlos ladrillos en aquel sitio, colocar allí el cuerpo y disponer el muro\\r\\nen su forma primitiva de manera que nadie pudiera percibir nada\\r\\nsospechoso. mis cálculos no me engañaron. con ayuda de una barra de hierro arranqué\\r\\nfácilmente los ladrillos, y depositando cuidadosamente el cadáver contra\\r\\nla pared interior, lo mantuve en esta posición mientras que, con poco\\r\\ntrabajo, volvía a rehacer el muro conforme se encontraba anteriormente.\\r\\nprocurándome argamasa, arena y filamentos con las precauciones\\r\\nposibles, preparé un compuesto que no pudiera distinguirse del enlucido\\r\\nantiguo y lo coloqué esmeradamente sobre el nuevo enladrillado. al\\r\\nconcluir, me sentí satisfecho de mi obra. el muro no ofrecía la más\\r\\nligera señal de haberse removido. recogí los fragmentos del suelo con el\\r\\ncuidado más minucioso. miré triunfante en torno y me dije a mí mismo:\\r\\n\"¡aquí, por lo menos, mi labor no ha sido en vano!\" me preocupé en seguida de buscar al animal que había causado tanta\\r\\ndesventura, porque al fin había resuelto firmemente deshacerme de él. si\\r\\nme hubiera sido dado encontrarle en aquel momento, su suerte no habría\\r\\nsido dudosa; mas parecía que el taimado gato, alarmado por la violencia\\r\\nde mi cólera, evitaba afrontar mi actual disposición. es imposible\\r\\ndescribir o imaginar la intensa sensación de reposo bienaventurado que\\r\\nprodujo en mi pecho la ausencia de esta detestada criatura. tampoco\\r\\napareció en la noche; y así, por una vez siquiera, desde su llegada a la\\r\\ncasa, dormí con sueño profundo y tranquilo; dormí, ¡ay, a despecho del\\r\\nasesinato que pesaba sobre mi alma! transcurrieron el segundo y el tercer día, y mi atormentador no se\\r\\npresentó. respiré de nuevo como hombre libre. ¡el monstruo, en su\\r\\nterror, había abandonado la casa para siempre! ¡no lo vería más! ¡mi\\r\\nfelicidad era suprema! la perversidad de mi negro crimen me molestaba\\r\\napenas. tuvieron lugar algunos interrogatorios que fueron contestados\\r\\nfácilmente. aun se procedió a una pesquisa; mas, por supuesto, nada\\r\\npudieron descubrir. creía ya asegurada mi felicidad futura. hacia el cuarto día después del asesinato, se presentó en la casa\\r\\ninopinadamente un grupo de la policía y procedió de nuevo a verificar\\r\\nrigurosa investigación en el edificio. seguro como me hallaba de que mi\\r\\nescondrijo era inescrutable, no sentí preocupación alguna. los oficiales\\r\\nme ordenaron acompañarles en su pesquisa. no dejaron rincón ni esquina\\r\\nsin escudriñar. al fin, por tercera o cuarta vez bajaron al sótano. ni\\r\\nuno sólo de mis músculos se conmovió. mi corazón latía tranquilamente\\r\\ncomo el de aquel que duerme en la inocencia. paseé la cueva de un\\r\\nextremo al otro. había cruzado los brazos sobre el pecho y vagaba sin\\r\\ninquietud de acá para allá. la policía se mostró enteramente satisfecha\\r\\ny se preparaba ya a partir. el júbilo era demasiado grande en mi corazón\\r\\npara poder refrenarlo. me quemaba por decir algo, una palabra de triunfo\\r\\nsiquiera, para afirmar más aún la certeza de mi inocencia. \"caballeros,\" dije al fin, cuando el grupo comenzaba a subir las\\r\\nescaleras, \"estoy deleitado al ver que vuestras sospechas se han\\r\\ndesvanecido. os deseo salud y un poquillo más de cortesía. a propósito,\\r\\ncaballeros, ésta es una casa muy bien construída.\" (en mi rabioso deseo\\r\\nde decir algo con desenvoltura, apenas sabía ya lo que hablaba). \"hasta\\r\\ndiré admirablemente bien construída. estos muros—¿os vais,\\r\\ncaballeros?—estos muros están edificados con gran solidez;\" y entonces,\\r\\npor puro frenesí de bravata, golpeé pesadamente con un bastón que\\r\\nllevaba en la mano la misma construcción de ladrillos tras de la cual se\\r\\nencontraba el cadáver de la esposa de mi alma. pero ¡así me libre dios y me defienda de las fauces del enemigo! apenas\\r\\nla repercusión de los golpes se ahogó en el silencio, cuando ¡una voz\\r\\ncontestó dentro de la tumba! un gemido, ahogado e interrumpido primero y\\r\\nsemejante al llanto de un niño, que pronto se elevó convirtiéndose en\\r\\ngrito largo, fuerte y sostenido, completamente anormal y nada humano; un\\r\\nalarido, un chillido lamentoso, mitad de horror y mitad de triunfo, como\\r\\npuede oírse brotar solamente del infierno, reuniendo el grito de agonía\\r\\nde los condenados y la exultación de los demonios por su condenación. sería locura hablar de mis sentimientos. desfalleciente, retrocedí\\r\\ntitubeando hasta el muro opuesto. por un momento quedó inmóvil el grupo\\r\\nen las escaleras a causa de su extremo horror y espanto. en el momento\\r\\ninmediato una docena de brazos robustos atacaba el muro. cayó\\r\\ncompletamente. el cadáver, ya descompuesto, y cubierto de grumos de\\r\\nsangre coagulada, permanecía erguido ante los ojos de los espectadores.\\r\\nsobre su cabeza, con la roja boca distendida, y echando fuego por su\\r\\núnico ojo, estaba la asquerosa bestia cuya astucia me indujo al\\r\\nasesinato, y cuya voz informe me entregaba al verdugo. ¡había emparedado\\r\\nal monstruo dentro de la tumba! publicado el 24 de abril de 2016 por edu robsy.\\nleído 3.679 veces. biblioteca digital abierta, legal y gratuita para textos y libros en formato electrónico: online, pdf, epub, mobi. hotel maison carrée \\n\\tc/ des ramal, 48\\n\\t07730 alayor - menorca\\n\\tislas baleares\\n\\tespaña textos.info es un proyecto gratuito de promoción de la lectura. ayúdanos a que nuestros libros lleguen a más gente compartiendo lecturas en las redes sociales. si puedes y quieres, también puedes hacer una donación para mantener el proyecto y posibilitar que nuestra biblioteca siga creciendo. '"
            ],
            "application/vnd.google.colaboratory.intrinsic+json": {
              "type": "string"
            }
          },
          "metadata": {},
          "execution_count": 81
        }
      ]
    },
    {
      "cell_type": "markdown",
      "source": [
        "### Elección del tamaño del contexto"
      ],
      "metadata": {
        "id": "tTTR88rPGdRP"
      }
    },
    {
      "cell_type": "markdown",
      "source": [
        "* Para el modelo de lenguaje por palabras:  "
      ],
      "metadata": {
        "id": "Bf4l4XJrIQjR"
      }
    },
    {
      "cell_type": "code",
      "source": [
        "# Separar el corpus en documentos por CRLF\n",
        "df = pd.DataFrame(article_text.split('\\r\\n'), columns=['text'])\n",
        "\n",
        "print(df.head())\n",
        "print(\"\\nCantidad de documentos:\", df.shape[0])"
      ],
      "metadata": {
        "colab": {
          "base_uri": "https://localhost:8080/"
        },
        "id": "PO4JxH1kMaoo",
        "outputId": "e04ae7de-ab1a-44a3-d4e2-700bde9e4cce"
      },
      "execution_count": 82,
      "outputs": [
        {
          "output_type": "stream",
          "name": "stdout",
          "text": [
            "                                                text\n",
            "0   no espero ni solicito fe para la narración ta...\n",
            "1  extravagante que está a punto de brotar de mi ...\n",
            "2  verdad el esperarlo, pues que mis propios sent...\n",
            "3  evidencia. sin embargo, no estoy loco, ni esto...\n",
            "4  debo morir mañana y quiero hoy aligerar el pes...\n",
            "\n",
            "Cantidad de documentos: 299\n"
          ]
        }
      ]
    },
    {
      "cell_type": "code",
      "source": [
        "# Guardar cada documento en una lista\n",
        "text = list(df['text'])\n",
        "\n",
        "# Segmentar cada documento en palabras\n",
        "segmented_sentences_df = [text_to_word_sequence(sentence) for sentence in text]\n"
      ],
      "metadata": {
        "id": "7_HJeMtbNXTX"
      },
      "execution_count": 83,
      "outputs": []
    },
    {
      "cell_type": "code",
      "source": [
        "# Ejemplo\n",
        "segmented_sentences_df[0]"
      ],
      "metadata": {
        "colab": {
          "base_uri": "https://localhost:8080/"
        },
        "id": "u1QqPQS0PF3h",
        "outputId": "db4fd03b-5621-4936-b3d7-df89248b88f5"
      },
      "execution_count": 84,
      "outputs": [
        {
          "output_type": "execute_result",
          "data": {
            "text/plain": [
              "['no',\n",
              " 'espero',\n",
              " 'ni',\n",
              " 'solicito',\n",
              " 'fe',\n",
              " 'para',\n",
              " 'la',\n",
              " 'narración',\n",
              " 'tan',\n",
              " 'sencilla',\n",
              " 'como']"
            ]
          },
          "metadata": {},
          "execution_count": 84
        }
      ]
    },
    {
      "cell_type": "code",
      "source": [
        "# Longitud de cada secuencia\n",
        "length_sentences_df = [len(sentence) for sentence in segmented_sentences_df]\n",
        "\n",
        "# Histograma - Distribución de tamaño de secuencias\n",
        "plt.hist(length_sentences_df, bins=20)\n",
        "plt.title('Distribución de longitud de secuencias')\n",
        "plt.xlabel('Número de palabras')\n",
        "plt.ylabel('Frecuencia')\n",
        "plt.show()"
      ],
      "metadata": {
        "colab": {
          "base_uri": "https://localhost:8080/",
          "height": 473
        },
        "id": "lRv6Ii0sPPKw",
        "outputId": "5f71192d-34b1-433f-a997-34d9f3017fba"
      },
      "execution_count": 85,
      "outputs": [
        {
          "output_type": "display_data",
          "data": {
            "text/plain": [
              "<Figure size 640x480 with 1 Axes>"
            ],
            "image/png": "[encoded data removed]"
          },
          "metadata": {}
        }
      ]
    },
    {
      "cell_type": "code",
      "source": [
        "# Diferentes tamaños de contexto máximo basados en la longitud de las secuencias:\n",
        "\n",
        "max_context_size_word_1 = int(np.percentile(length_sentences_df, 90)-1) # percentil\n",
        "max_context_size_word_2 = int(np.ceil(np.mean(length_sentences_df))) # media\n",
        "max_context_size_word_3 = int(np.ceil(np.median(length_sentences_df))) # mediana\n",
        "\n",
        "print(f'max_context_size (words): {max_context_size_word_1} | {max_context_size_word_2} | {max_context_size_word_3}')\n",
        "\n"
      ],
      "metadata": {
        "colab": {
          "base_uri": "https://localhost:8080/"
        },
        "id": "BzggqcLuNLzv",
        "outputId": "63ed9895-3dce-43a2-cdb5-3b8613bbde6f"
      },
      "execution_count": 86,
      "outputs": [
        {
          "output_type": "stream",
          "name": "stdout",
          "text": [
            "max_context_size (words): 14 | 13 | 12\n"
          ]
        }
      ]
    },
    {
      "cell_type": "markdown",
      "source": [
        "* **Percentil 90 menos 1** (max_context_size_word_1):  \n",
        "Da la longitud de la secuencia en el percentil 90 y le resta 1.   \n",
        "La idea es capturar la mayoría de las oraciones más largas, excluyendo los valores extremos más altos (los outliers).  \n",
        "\n",
        "* **Media (redondeada hacia arriba)** (max_context_size_word_2):  \n",
        "Calcula la longitud promedio de las oraciones y se redondea hacia arriba.   \n",
        "La media puede ser sensible a oraciones extremadamente largas o cortas, por lo que en presencia de outliers, podría no reflejar de forma precisa el tamaño típico de las oraciones.\n",
        "\n",
        "* **Mediana (redondeada hacia arriba)** (max_context_size_word_3):  \n",
        "La mediana es el valor central en el conjunto de datos. Al redondearla hacia arriba, resulta en un número entero, que representa la tendencia central de las longitudes de las oraciones."
      ],
      "metadata": {
        "id": "cY6OozKjsgi1"
      }
    },
    {
      "cell_type": "markdown",
      "source": [
        "Dado que las tres medidas son bastante cercanas tomo como max_context_size_word el valor máximo:"
      ],
      "metadata": {
        "id": "gpqsQi-9OOlO"
      }
    },
    {
      "cell_type": "code",
      "source": [
        "max_context_size = max([max_context_size_word_1, max_context_size_word_2, max_context_size_word_3])\n",
        "print(max_context_size)"
      ],
      "metadata": {
        "id": "pYavl9A0OH8t",
        "colab": {
          "base_uri": "https://localhost:8080/"
        },
        "outputId": "0c888054-2d48-4829-e4b2-7c2d9cb170b9"
      },
      "execution_count": 87,
      "outputs": [
        {
          "output_type": "stream",
          "name": "stdout",
          "text": [
            "14\n"
          ]
        }
      ]
    },
    {
      "cell_type": "markdown",
      "source": [
        "### Tokenización"
      ],
      "metadata": {
        "id": "hXqgW464K-6X"
      }
    },
    {
      "cell_type": "code",
      "source": [
        "# Tokenizar por palabras\n",
        "tok = Tokenizer()\n",
        "tok.fit_on_texts(segmented_sentences_df)\n",
        "# Convertir palabras a números\n",
        "tokenized_sentences_df = tok.texts_to_sequences(segmented_sentences_df)"
      ],
      "metadata": {
        "id": "ed54xraLNKzx"
      },
      "execution_count": 88,
      "outputs": []
    },
    {
      "cell_type": "code",
      "source": [
        "# Cantidad de palabras en el vocabulario\n",
        "print(f'Tamaño del vocabulario: {len(tok.word_counts)} palabras.')\n",
        "\n",
        "vocab_words_size = len(tok.word_counts)"
      ],
      "metadata": {
        "colab": {
          "base_uri": "https://localhost:8080/"
        },
        "id": "4q7yjUeWk1ij",
        "outputId": "a6283abe-cd39-4d24-c1fd-872690fb78e4"
      },
      "execution_count": 89,
      "outputs": [
        {
          "output_type": "stream",
          "name": "stdout",
          "text": [
            "Tamaño del vocabulario: 1441 palabras.\n"
          ]
        }
      ]
    },
    {
      "cell_type": "code",
      "source": [
        "# Obtener las palabras y sus índices (palabra -> índice)\n",
        "word_index = tok.word_index\n",
        "print(f\"Vocabulario: {word_index}\")"
      ],
      "metadata": {
        "colab": {
          "base_uri": "https://localhost:8080/"
        },
        "id": "aZTjN7wlfZTl",
        "outputId": "a2461535-73f0-40e4-e80a-cebf90e9dcd4"
      },
      "execution_count": 90,
      "outputs": [
        {
          "output_type": "stream",
          "name": "stdout",
          "text": [
            "Vocabulario: {'de': 1, 'y': 2, 'la': 3, 'que': 4, 'el': 5, 'mi': 6, 'en': 7, 'a': 8, 'me': 9, 'por': 10, 'se': 11, 'un': 12, 'los': 13, 'no': 14, 'del': 15, 'al': 16, 'con': 17, 'una': 18, 'lo': 19, 'su': 20, 'había': 21, 'más': 22, 'como': 23, 'mis': 24, 'era': 25, 'las': 26, 'para': 27, 'sin': 28, 'animal': 29, 'gato': 30, 'casa': 31, 'esta': 32, 'este': 33, 'es': 34, 'mí': 35, 'hasta': 36, 'día': 37, 'pero': 38, 'cuando': 39, 'sobre': 40, 'ni': 41, 'mujer': 42, 'uno': 43, 'corazón': 44, 'e': 45, 'yo': 46, 'alma': 47, 'gran': 48, 'parte': 49, 'si': 50, 'o': 51, 'fin': 52, 'noche': 53, 'terror': 54, 'ser': 55, 'tan': 56, 'embargo': 57, 'estoy': 58, 'mas': 59, 'sus': 60, 'horror': 61, 'aun': 62, 'sentimiento': 63, 'razón': 64, 'plutón': 65, 'semejante': 66, 'muy': 67, 'entonces': 68, 'muro': 69, 'casi': 70, 'sido': 71, 'ojos': 72, 'han': 73, 'después': 74, 'tiempo': 75, 'apenas': 76, 'aquel': 77, 'tenía': 78, 'así': 79, 'le': 80, 'dentro': 81, 'mano': 82, 'momento': 83, 'cuerpo': 84, 'otro': 85, 'alguna': 86, 'cierta': 87, 'contra': 88, 'porque': 89, 'muros': 90, 'antes': 91, 'vez': 92, 'ya': 93, 'bien': 94, 'sería': 95, 'todo': 96, 'algún': 97, 'carácter': 98, 'algo': 99, 'hombre': 100, 'ella': 101, 'negro': 102, 'todos': 103, 'entre': 104, 'todas': 105, 'violencia': 106, 'parecía': 107, 'mitad': 108, 'crimen': 109, 'nuevo': 110, 'pronto': 111, 'presentó': 112, 'espíritu': 113, 'perversidad': 114, 'hacerlo': 115, 'hacer': 116, 'allí': 117, 'fuego': 118, 'atención': 119, 'objeto': 120, 'grande': 121, 'grupo': 122, 'pecho': 123, 'bestia': 124, 'asesinato': 125, 'cadáver': 126, 'sótano': 127, 'punto': 128, 'locura': 129, 'mañana': 130, 'propósito': 131, 'lector': 132, 'ninguna': 133, 'acontecimientos': 134, 'sólo': 135, 'muchos': 136, 'posible': 137, 'menos': 138, 'desde': 139, 'temperamento': 140, 'hacía': 141, 'blanco': 142, 'favoritos': 143, 'aumentó': 144, 'aquella': 145, 'perro': 146, 'irracional': 147, 'recuerdo': 148, 'ahora': 149, 'solamente': 150, 'él': 151, 'también': 152, 'nuestra': 153, 'durante': 154, 'mal': 155, 'disposición': 156, 'evitaba': 157, 'mismo': 158, 'haber': 159, 'siguiente': 160, 'remordimiento': 161, 'vino': 162, 'ojo': 163, 'cierto': 164, 'veces': 165, 'misma': 166, 'ahorqué': 167, 'sabía': 168, 'dado': 169, 'tal': 170, 'allá': 171, 'dios': 172, 'crueldad': 173, 'bajo': 174, 'cuerda': 175, 'voz': 176, 'inmediatamente': 177, 'fuera': 178, 'buscar': 179, 'hallaba': 180, 'medio': 181, 'mientras': 182, 'forma': 183, 'quien': 184, 'sentí': 185, 'poco': 186, 'dije': 187, 'humanidad': 188, 'hubiera': 189, 'golpe': 190, 'habría': 191, 'monstruo': 192, 'encontraba': 193, 'escaleras': 194, 'fácilmente': 195, 'ladrillos': 196, 'nada': 197, 'caballeros': 198, 'fe': 199, 'sencilla': 200, 'brotar': 201, 'verdad': 202, 'pues': 203, 'seguro': 204, 'quiero': 205, 'peso': 206, 'inmediato': 207, 'clase': 208, 'domésticos': 209, 'estos': 210, 'aterrorizado': 211, 'pesar': 212, 'otros': 213, 'tanto': 214, 'entendimiento': 215, 'fantasma': 216, 'límites': 217, 'mucho': 218, 'percibir': 219, 'efectos': 220, 'animales': 221, 'inclinación': 222, 'procurándome': 223, 'mayor': 224, 'les': 225, 'alimentaba': 226, 'fuente': 227, 'afección': 228, 'inteligente': 229, 'existe': 230, 'ocasión': 231, 'amistad': 232, 'suerte': 233, 'encontrar': 234, 'conejos': 235, 'mono': 236, 'éste': 237, 'enteramente': 238, 'grado': 239, 'frecuentes': 240, 'antiguo': 241, 'negros': 242, 'diversos': 243, 'difícil': 244, 'varios': 245, 'impulsos': 246, 'confesarlo': 247, 'hacia': 248, 'sentir': 249, 'todavía': 250, 'impedían': 251, 'enfermedad': 252, 'volvía': 253, 'viejo': 254, 'comenzó': 255, 'sufrir': 256, 'orgía': 257, 'presencia': 258, 'instantáneamente': 259, 'apoderó': 260, 'furia': 261, 'demoniaca': 262, 'conocía': 263, 'ginebra': 264, 'arranqué': 265, 'atrocidad': 266, 'volví': 267, 'cometido': 268, 'terrible': 269, 'ningún': 270, 'evidente': 271, 'amado': 272, 'convirtió': 273, 'depravación': 274, 'humano': 275, 'ha': 276, 'acción': 277, 'sola': 278, 'decía': 279, 'sí': 280, 'puro': 281, 'daño': 282, 'sangre': 283, 'cuello': 284, 'pecado': 285, 'incendio': 286, 'estaban': 287, 'llamas': 288, 'toda': 289, 'trabajo': 290, 'repentinamente': 291, 'causa': 292, 'efecto': 293, 'excepción': 294, 'habían': 295, 'pared': 296, 'cual': 297, 'estuco': 298, 'hecho': 299, 'personas': 300, 'pude': 301, 'figura': 302, 'impresión': 303, 'detalles': 304, 'verdaderamente': 305, 'ante': 306, 'sorpresa': 307, 'fueron': 308, 'ayuda': 309, 'ahorcado': 310, 'jardín': 311, 'gente': 312, 'duda': 313, 'abierta': 314, 'hizo': 315, 'víctima': 316, 'mezcla': 317, 'prontamente': 318, 'aunque': 319, 'llegué': 320, 'alto': 321, 'circunstancia': 322, 'solo': 323, 'pelo': 324, 'indefinida': 325, 'pareció': 326, 'jamás': 327, 'preparaba': 328, 'mostró': 329, 'cómo': 330, 'odio': 331, 'sensación': 332, 'anterior': 333, 'golpeé': 334, 'gradualmente': 335, 'aversión': 336, 'intolerable': 337, 'silencio': 338, 'sentimientos': 339, 'seguía': 340, 'haciéndome': 341, 'caer': 342, 'inspiraba': 343, 'avergonzado': 344, 'confesar': 345, 'espanto': 346, 'imaginar': 347, 'grados': 348, 'rigurosa': 349, 'representaba': 350, 'imagen': 351, 'cosa': 352, '¡el': 353, 'agonía': 354, 'poder': 355, 'pensamientos': 356, '¡ay': 357, 'edificio': 358, 'hacha': 359, 'ira': 360, 'cabeza': 361, 'cayó': 362, 'sitio': 363, 'gemido': 364, 'podría': 365, 'fragmentos': 366, 'suelo': 367, 'cueva': 368, 'solidez': 369, 'pudiera': 370, 'siquiera': 371, 'dormí': 372, 'libre': 373, 'felicidad': 374, 'procedió': 375, 'pesquisa': 376, 'policía': 377, 'inocencia': 378, 'extremo': 379, 'brazos': 380, 'decir': 381, 'triunfo': 382, 'deseo': 383, 'construída': 384, 'tumba': 385, 'grito': 386, 'completamente': 387, 'cuya': 388, 'biblioteca': 389, 'textos': 390, 'libros': 391, 'proyecto': 392, 'puedes': 393, 'espero': 394, 'solicito': 395, 'narración': 396, 'extravagante': 397, 'está': 398, 'pluma': 399, 'esperarlo': 400, 'propios': 401, 'sentidos': 402, 'rechazan': 403, 'evidencia': 404, 'loco': 405, 'soñando': 406, 'debo': 407, 'morir': 408, 'hoy': 409, 'aligerar': 410, 'presentar': 411, 'llana': 412, 'sucintamente': 413, 'comentario': 414, 'serie': 415, 'simples': 416, 'consecuencias': 417, 'torturado': 418, 'deshecho': 419, 'trataré': 420, 'interpretarlos': 421, 'representado': 422, 'serán': 423, 'quizá': 424, 'terribles': 425, 'baroques': 426, 'encuentre': 427, 'reduzca': 428, 'vulgar': 429, 'sereno': 430, 'lógico': 431, 'excitable': 432, 'mío': 433, 'capaz': 434, 'circunstancias': 435, 'expreso': 436, 'lleno': 437, 'pavor': 438, 'simplemente': 439, 'sucesión': 440, 'ordinaria': 441, 'causas': 442, 'naturales': 443, 'niñez': 444, 'híceme': 445, 'notar': 446, 'docilidad': 447, 'ternura': 448, 'bondad': 449, 'revestía': 450, 'caracteres': 451, 'delicadeza': 452, 'exquisita': 453, 'burlas': 454, 'compañeros': 455, 'particularmente': 456, 'afecto': 457, 'padres': 458, 'condescendían': 459, 'diversidad': 460, 'consagraba': 461, 'nunca': 462, 'feliz': 463, 'acariciaba': 464, 'peculiaridad': 465, 'adolescencia': 466, 'virilidad': 467, 'derivaba': 468, 'mejores': 469, 'goces': 470, 'necesito': 471, 'explicar': 472, 'hayan': 473, 'sentido': 474, 'fiel': 475, 'intensidad': 476, 'placer': 477, 'produce': 478, 'amor': 479, 'generoso': 480, 'abnegado': 481, 'va': 482, 'directamente': 483, 'haya': 484, 'tenido': 485, 'comprobar': 486, 'menudo': 487, 'ruin': 488, 'lealtad': 489, 'deleznable': 490, 'casé': 491, 'joven': 492, 'tuve': 493, 'inclinaciones': 494, 'semejantes': 495, 'mías': 496, 'observando': 497, 'afición': 498, 'perdía': 499, 'procurarse': 500, 'lindos': 501, 'teníamos': 502, 'pájaros': 503, 'peces': 504, 'dorados': 505, 'fino': 506, 'pequeño': 507, 'enorme': 508, 'hermoso': 509, 'excepcional': 510, 'ocuparnos': 511, 'inteligencia': 512, 'fondo': 513, 'superstición': 514, 'alusiones': 515, 'concepto': 516, 'popular': 517, 'considera': 518, 'brujas': 519, 'disfrazadas': 520, 'gatos': 521, 'prestara': 522, 'creencia': 523, 'menciono': 524, 'idea': 525, 'pasada': 526, 'llamaba': 527, 'preferido': 528, 'compañero': 529, 'habitual': 530, 'juegos': 531, 'acostumbraba': 532, 'seguirme': 533, 'partes': 534, 'siéndome': 535, 'evitar': 536, 'hiciera': 537, 'propio': 538, 'calles': 539, 'continuó': 540, 'años': 541, 'cuales': 542, 'demonio': 543, 'intemperancia': 544, 'ruborizo': 545, 'sufrieron': 546, 'radical': 547, 'alteración': 548, 'hacíame': 549, 'taciturno': 550, 'irritable': 551, 'guardaba': 552, 'consideración': 553, 'demás': 554, 'permitía': 555, 'usar': 556, 'lenguaje': 557, 'destemplado': 558, 'llegando': 559, 'personal': 560, 'hubieron': 561, 'naturalmente': 562, 'cambio': 563, 'descuidaba': 564, 'sino': 565, 'abusaba': 566, 'ellos': 567, 'conservaba': 568, 'ciertas': 569, 'prerrogativas': 570, 'maltratarle': 571, 'escrúpulo': 572, 'cariño': 573, 'casualidad': 574, 'atravesaban': 575, 'camino': 576, 'avanzaba—¡el': 577, 'alcohol': 578, '—y': 579, 'impertinente': 580, 'consecuencia': 581, 'regresaba': 582, 'embriagado': 583, 'guaridas': 584, 'habituales': 585, 'ciudad': 586, 'ocurrió': 587, 'cogíle': 588, 'infirió': 589, 'pequeña': 590, 'herida': 591, 'mordiéndome': 592, 'prístina': 593, 'escapado': 594, 'maldad': 595, 'diabólica': 596, 'nutrida': 597, 'estremecía': 598, 'fibras': 599, 'saqué': 600, 'cortaplumas': 601, 'bolsillo': 602, 'chaleco': 603, 'abríle': 604, 'deliberadamente': 605, 'órbita': 606, '¡me': 607, 'avergüenzo': 608, 'quemo': 609, 'horrorizo': 610, 'escribir': 611, 'abominable': 612, 'dormido': 613, 'humos': 614, 'nocturna': 615, 'experimenté': 616, 'débil': 617, 'equívoco': 618, 'llegó': 619, 'conmover': 620, 'ánima': 621, 'sumergí': 622, 'excesos': 623, 'ahogué': 624, 'memoria': 625, 'hazaña': 626, 'recobraba': 627, 'lentamente': 628, 'hueco': 629, 'vacío': 630, 'presentaba': 631, 'aspecto': 632, 'dolor': 633, 'iba': 634, 'venía': 635, 'costumbre': 636, 'esperarse': 637, 'huía': 638, 'aproximación': 639, 'bastante': 640, 'sentirme': 641, 'apenado': 642, 'prueba': 643, 'desafecto': 644, 'irritación': 645, 'confirmar': 646, 'final': 647, 'irrevocable': 648, 'ocupa': 649, 'filosofía': 650, 'existencia': 651, 'primitivos': 652, 'facultades': 653, 'primordiales': 654, 'indivisibles': 655, 'definen': 656, 'orientación': 657, '¿quién': 658, 'sorprendido': 659, 'cien': 660, 'cometiendo': 661, 'vil': 662, 'torpe': 663, 'debería': 664, '¿no': 665, 'acaso': 666, 'nosotros': 667, 'perpetua': 668, 'violar': 669, 'ley': 670, 'torrente': 671, 'nuestro': 672, 'buen': 673, 'criterio': 674, 'comprendemos': 675, 'tiene': 676, 'poner': 677, 'colmo': 678, 'ansia': 679, 'infatigable': 680, 'vejarse': 681, 'violentar': 682, 'propia': 683, 'naturaleza': 684, 'gusto': 685, 'impulsaba': 686, 'continua': 687, 'tenazmente': 688, 'consumar': 689, 'infligido': 690, 'inofensivo': 691, 'fría': 692, 'pasé': 693, 'lazo': 694, 'colgué': 695, 'rama': 696, 'árbol': 697, 'lágrimas': 698, 'corrían': 699, 'amargo': 700, 'laceraba': 701, 'sentía': 702, 'motivo': 703, 'ofensa': 704, 'comprendía': 705, 'cometía': 706, 'mortal': 707, 'exponía': 708, 'encontrarse': 709, 'gracia': 710, 'infinita': 711, 'misericordioso': 712, 'cometí': 713, 'desperté': 714, 'gritos': 715, 'cortinas': 716, 'cama': 717, 'convertidas': 718, 'ardía': 719, 'pudimos': 720, 'escapar': 721, 'conflagración': 722, 'criada': 723, 'riquezas': 724, 'desaparecieron': 725, 'entregué': 726, 'desesperación': 727, 'encima': 728, 'flaqueza': 729, 'establecer': 730, 'relación': 731, 'desastre': 732, 'cometida': 733, 'refiero': 734, 'cadena': 735, 'dejar': 736, 'eslabón': 737, 'incompleto': 738, 'visité': 739, 'ruinas': 740, 'desplomado': 741, 'continuaba': 742, 'pie': 743, 'gruesa': 744, 'habitación': 745, 'situada': 746, 'centro': 747, 'descansaba': 748, 'cabecera': 749, 'lecho': 750, 'resistido': 751, 'atribuí': 752, 'reciente': 753, 'aplicación': 754, 'densa': 755, 'muchedumbre': 756, 'apiñado': 757, 'cerca': 758, 'muchas': 759, 'parecían': 760, 'examinar': 761, 'viva': 762, 'minuciosa': 763, 'palabras': 764, '¡extraño': 765, '¡singular': 766, 'excitaron': 767, 'curiosidad': 768, 'aproximé': 769, 'observar': 770, 'gigantesco': 771, 'grabado': 772, 'relieve': 773, 'blanca': 774, 'superficie': 775, 'fijado': 776, 'maravillosos': 777, 'veíase': 778, 'rededor': 779, 'primera': 780, 'aparición—pues': 781, 'difícilmente': 782, 'podía': 783, 'considerarla': 784, 'modo—mi': 785, 'extremados': 786, 'reflexión': 787, 'recordé': 788, 'contiguo': 789, 'llenó': 790, 'aquellas': 791, 'cortó': 792, 'pendía': 793, 'arrojándolo': 794, 'aposento': 795, 'ventana': 796, 'probablemente': 797, 'esto': 798, 'despertarme': 799, 'desplome': 800, 'comprimió': 801, 'seguramente': 802, 'fresco': 803, 'cal': 804, 'combinada': 805, 'amoniaco': 806, 'producido': 807, 'aparecía': 808, 'tranquilicé': 809, 'conciencia': 810, 'acerca': 811, 'sorprendente': 812, 'acabo': 813, 'manifestar': 814, 'dejó': 815, 'ello': 816, 'profunda': 817, 'mente': 818, 'largos': 819, 'meses': 820, 'librarme': 821, 'período': 822, 'vago': 823, 'asemejaba': 824, 'realidad': 825, 'deplorar': 826, 'pérdida': 827, 'alrededor': 828, 'abyectos': 829, 'lugares': 830, 'frecuentaba': 831, 'habitualmente': 832, 'favorito': 833, 'especie': 834, 'apariencia': 835, 'reemplazarle': 836, 'sentado': 837, 'embrutecido': 838, 'aquellos': 839, 'antros': 840, 'infamia': 841, 'atrajo': 842, 'reposaba': 843, 'enormes': 844, 'barriles': 845, 'ron': 846, 'constituían': 847, 'principal': 848, 'mueblaje': 849, 'departamento': 850, 'estado': 851, 'mirando': 852, 'fijamente': 853, 'minutos': 854, 'superior': 855, 'barril': 856, 'causaba': 857, 'advertido': 858, 'cuestión': 859, 'acerquéme': 860, 'toqué': 861, 'manchas': 862, 'blancas': 863, 'cubría': 864, 'tocarle': 865, 'levantó': 866, 'hilar': 867, 'contento': 868, 'restregó': 869, 'deleitarse': 870, 'andaba': 871, 'tratando': 872, 'propuse': 873, 'compra': 874, 'tabernero': 875, 'manifestó': 876, 'dueño': 877, 'visto': 878, 'continué': 879, 'acariciándole': 880, 'regresar': 881, 'domicilio': 882, 'acompañarme': 883, 'permití': 884, 'deteniéndome': 885, 'darle': 886, 'palmaditas': 887, 'proseguir': 888, 'llegamos': 889, 'domesticó': 890, 'haciendo': 891, 'grandes': 892, 'migas': 893, 'toca': 894, 'despertarse': 895, 'antipatía': 896, 'justamente': 897, 'contrario': 898, 'esperaba': 899, 'sé': 900, 'qué': 901, 'repugnaba': 902, 'hastiaba': 903, 'tedio': 904, 'repugnancia': 905, 'acerbo': 906, 'vergüenza': 907, 'maltratarlo': 908, 'varias': 909, 'semanas': 910, 'traté': 911, 'mirarlo': 912, 'huir': 913, 'odiosa': 914, 'hálito': 915, 'pestilente': 916, 'indudablemente': 917, 'fué': 918, 'descubrimiento': 919, 'haberle': 920, 'traído': 921, 'semejanza': 922, 'privado': 923, 'caro': 924, 'poseía': 925, 'rasgos': 926, 'distintivos': 927, 'sencillos': 928, 'puros': 929, 'placeres': 930, 'aumentar': 931, 'predilección': 932, 'pasos': 933, 'pertinacia': 934, 'comprender': 935, 'dondequiera': 936, 'sentase': 937, 'acurrucaba': 938, 'silla': 939, 'saltaba': 940, 'rodillas': 941, 'cubriéndome': 942, 'repugnantes': 943, 'caricias': 944, 'levantaba': 945, 'pasear': 946, 'metía': 947, 'pies': 948, 'clavando': 949, 'vestidos': 950, 'largas': 951, 'afiladas': 952, 'garras': 953, 'encaramaba': 954, 'modo': 955, 'tales': 956, 'momentos': 957, 'deseado': 958, 'aplastarlo': 959, 'sentíame': 960, 'cohibido': 961, 'principalmente': 962, 'dejadme': 963, 'absoluto': 964, 'precisamente': 965, 'físico': 966, 'sabría': 967, 'definirlo': 968, 'siento': 969, 'celda': 970, 'criminal': 971, 'aumentaban': 972, 'quimera': 973, 'fantástica': 974, 'llamado': 975, 'índole': 976, 'mancha': 977, 'he': 978, 'hablado': 979, 'constituía': 980, 'única': 981, 'diferencia': 982, 'visible': 983, 'extraño': 984, 'recordará': 985, 'marca': 986, 'principio': 987, 'pequeños': 988, 'imperceptibles': 989, 'luchó': 990, 'rechazar': 991, 'fantasías': 992, 'asumido': 993, 'claridad': 994, 'líneas': 995, 'estremezco': 996, 'nombrar': 997, 'eso': 998, 'aborrecía': 999, 'temía': 1000, 'librado': 1001, 'buena': 1002, 'gana': 1003, 'atrevido': 1004, 'espantoso': 1005, 'horrible': 1006, 'patíbulo': 1007, '—¡oh': 1008, 'lúgubre': 1009, 'funesta': 1010, 'máquina': 1011, 'muerte': 1012, 'desventurado': 1013, 'miseria': 1014, 'soportar': 1015, 'pobre': 1016, '¡y': 1017, 'cuyo': 1018, 'destruí': 1019, 'menosprecio': 1020, 'causara': 1021, 'formado': 1022, 'supremo': 1023, 'sufrimiento': 1024, '¡ah': 1025, '¡ni': 1026, 'saborear': 1027, 'bendición': 1028, 'descanso': 1029, '¡durante': 1030, 'dejaba': 1031, 'despertaba': 1032, 'cada': 1033, 'instante': 1034, 'sueños': 1035, 'insuperable': 1036, 'rostro': 1037, 'ardiente': 1038, 'aliento': 1039, 'flácido': 1040, 'oprimiendo': 1041, 'eternamente': 1042, 'pesadilla': 1043, 'encarnada': 1044, 'sacudir': 1045, 'presión': 1046, 'tortura': 1047, 'sucumbieron': 1048, 'pocos': 1049, 'restos': 1050, 'malos': 1051, 'eran': 1052, 'compañía': 1053, 'depravados': 1054, 'acostumbrada': 1055, 'irritabilidad': 1056, 'aborrecimiento': 1057, 'cosas': 1058, 'queja': 1059, 'diaria': 1060, 'paciente': 1061, 'súbitos': 1062, 'incontenibles': 1063, 'arranques': 1064, 'abandonaba': 1065, 'ciegamente': 1066, 'acompañaba': 1067, 'recorrido': 1068, 'casero': 1069, 'sótanos': 1070, 'pobreza': 1071, 'nos': 1072, 'compelía': 1073, 'habitar': 1074, 'precipitar': 1075, 'exasperó': 1076, 'cogiendo': 1077, 'olvidando': 1078, 'infantil': 1079, 'detenido': 1080, 'asesté': 1081, 'fatal': 1082, 'deseaba': 1083, 'desvió': 1084, 'arrastrado': 1085, 'intervención': 1086, 'desasí': 1087, 'brazo': 1088, 'sujetaba': 1089, 'hundí': 1090, 'muerta': 1091, 'horroroso': 1092, 'dediqué': 1093, 'tardanza': 1094, 'entera': 1095, 'deliberación': 1096, 'tarea': 1097, 'ocultar': 1098, 'sacarlo': 1099, 'correr': 1100, 'riesgo': 1101, 'observado': 1102, 'vecinos': 1103, 'proyectos': 1104, 'presentaron': 1105, 'imaginación': 1106, 'pensaba': 1107, 'cortar': 1108, 'menudos': 1109, 'hacerlos': 1110, 'desaparecer': 1111, 'otras': 1112, 'resolvía': 1113, 'cavar': 1114, 'sepultura': 1115, 'luego': 1116, 'deliberaba': 1117, 'conveniente': 1118, 'arrojarlo': 1119, 'pozo': 1120, 'patio': 1121, 'empacarlo': 1122, 'mercadería': 1123, 'cajón': 1124, 'requisitos': 1125, 'acostumbrados': 1126, 'mozo': 1127, 'sacara': 1128, 'finalmente': 1129, 'di': 1130, 'expediente': 1131, 'mejor': 1132, 'anteriores': 1133, 'determiné': 1134, 'emparedarlo': 1135, 'dice': 1136, 'hacían': 1137, 'víctimas': 1138, 'monjes': 1139, 'edad': 1140, 'media': 1141, 'adaptaba': 1142, 'construídos': 1143, 'recientemente': 1144, 'revocados': 1145, 'humedad': 1146, 'atmósfera': 1147, 'dejado': 1148, 'endurecer': 1149, 'existía': 1150, 'además': 1151, 'protuberancia': 1152, 'causada': 1153, 'falsa': 1154, 'chimenea': 1155, 'u': 1156, 'hogar': 1157, 'rellenado': 1158, 'nivelarla': 1159, 'resto': 1160, 'puse': 1161, 'remover': 1162, 'colocar': 1163, 'disponer': 1164, 'primitiva': 1165, 'manera': 1166, 'nadie': 1167, 'sospechoso': 1168, 'cálculos': 1169, 'engañaron': 1170, 'barra': 1171, 'hierro': 1172, 'depositando': 1173, 'cuidadosamente': 1174, 'interior': 1175, 'mantuve': 1176, 'posición': 1177, 'rehacer': 1178, 'conforme': 1179, 'anteriormente': 1180, 'argamasa': 1181, 'arena': 1182, 'filamentos': 1183, 'precauciones': 1184, 'posibles': 1185, 'preparé': 1186, 'compuesto': 1187, 'distinguirse': 1188, 'enlucido': 1189, 'coloqué': 1190, 'esmeradamente': 1191, 'enladrillado': 1192, 'concluir': 1193, 'satisfecho': 1194, 'obra': 1195, 'ofrecía': 1196, 'ligera': 1197, 'señal': 1198, 'haberse': 1199, 'removido': 1200, 'recogí': 1201, 'cuidado': 1202, 'minucioso': 1203, 'miré': 1204, 'triunfante': 1205, 'torno': 1206, '¡aquí': 1207, 'labor': 1208, 'vano': 1209, 'preocupé': 1210, 'seguida': 1211, 'causado': 1212, 'tanta': 1213, 'desventura': 1214, 'resuelto': 1215, 'firmemente': 1216, 'deshacerme': 1217, 'encontrarle': 1218, 'dudosa': 1219, 'taimado': 1220, 'alarmado': 1221, 'cólera': 1222, 'afrontar': 1223, 'actual': 1224, 'imposible': 1225, 'describir': 1226, 'intensa': 1227, 'reposo': 1228, 'bienaventurado': 1229, 'produjo': 1230, 'ausencia': 1231, 'detestada': 1232, 'criatura': 1233, 'tampoco': 1234, 'apareció': 1235, 'llegada': 1236, 'sueño': 1237, 'profundo': 1238, 'tranquilo': 1239, 'despecho': 1240, 'pesaba': 1241, 'transcurrieron': 1242, 'segundo': 1243, 'tercer': 1244, 'atormentador': 1245, 'respiré': 1246, 'abandonado': 1247, 'siempre': 1248, '¡no': 1249, 'vería': 1250, '¡mi': 1251, 'suprema': 1252, 'molestaba': 1253, 'tuvieron': 1254, 'lugar': 1255, 'algunos': 1256, 'interrogatorios': 1257, 'contestados': 1258, 'supuesto': 1259, 'pudieron': 1260, 'descubrir': 1261, 'creía': 1262, 'asegurada': 1263, 'futura': 1264, 'cuarto': 1265, 'inopinadamente': 1266, 'verificar': 1267, 'investigación': 1268, 'escondrijo': 1269, 'inescrutable': 1270, 'preocupación': 1271, 'oficiales': 1272, 'ordenaron': 1273, 'acompañarles': 1274, 'dejaron': 1275, 'rincón': 1276, 'esquina': 1277, 'escudriñar': 1278, 'tercera': 1279, 'cuarta': 1280, 'bajaron': 1281, 'músculos': 1282, 'conmovió': 1283, 'latía': 1284, 'tranquilamente': 1285, 'duerme': 1286, 'paseé': 1287, 'cruzado': 1288, 'vagaba': 1289, 'inquietud': 1290, 'acá': 1291, 'satisfecha': 1292, 'partir': 1293, 'júbilo': 1294, 'demasiado': 1295, 'refrenarlo': 1296, 'quemaba': 1297, 'palabra': 1298, 'afirmar': 1299, 'aún': 1300, 'certeza': 1301, 'comenzaba': 1302, 'subir': 1303, 'deleitado': 1304, 'ver': 1305, 'vuestras': 1306, 'sospechas': 1307, 'desvanecido': 1308, 'os': 1309, 'salud': 1310, 'poquillo': 1311, 'cortesía': 1312, 'ésta': 1313, 'rabioso': 1314, 'desenvoltura': 1315, 'hablaba': 1316, 'diré': 1317, 'admirablemente': 1318, 'muros—¿os': 1319, 'vais': 1320, '—estos': 1321, 'están': 1322, 'edificados': 1323, 'frenesí': 1324, 'bravata': 1325, 'pesadamente': 1326, 'bastón': 1327, 'llevaba': 1328, 'construcción': 1329, 'tras': 1330, 'esposa': 1331, '¡así': 1332, 'defienda': 1333, 'fauces': 1334, 'enemigo': 1335, 'repercusión': 1336, 'golpes': 1337, 'ahogó': 1338, '¡una': 1339, 'contestó': 1340, 'ahogado': 1341, 'interrumpido': 1342, 'primero': 1343, 'llanto': 1344, 'niño': 1345, 'elevó': 1346, 'convirtiéndose': 1347, 'largo': 1348, 'fuerte': 1349, 'sostenido': 1350, 'anormal': 1351, 'alarido': 1352, 'chillido': 1353, 'lamentoso': 1354, 'puede': 1355, 'oírse': 1356, 'infierno': 1357, 'reuniendo': 1358, 'condenados': 1359, 'exultación': 1360, 'demonios': 1361, 'condenación': 1362, 'hablar': 1363, 'desfalleciente': 1364, 'retrocedí': 1365, 'titubeando': 1366, 'opuesto': 1367, 'quedó': 1368, 'inmóvil': 1369, 'docena': 1370, 'robustos': 1371, 'atacaba': 1372, 'descompuesto': 1373, 'cubierto': 1374, 'grumos': 1375, 'coagulada': 1376, 'permanecía': 1377, 'erguido': 1378, 'espectadores': 1379, 'roja': 1380, 'boca': 1381, 'distendida': 1382, 'echando': 1383, 'único': 1384, 'estaba': 1385, 'asquerosa': 1386, 'astucia': 1387, 'indujo': 1388, 'informe': 1389, 'entregaba': 1390, 'verdugo': 1391, '¡había': 1392, 'emparedado': 1393, 'publicado': 1394, '24': 1395, 'abril': 1396, '2016': 1397, 'edu': 1398, 'robsy': 1399, 'leído': 1400, '3': 1401, '679': 1402, 'digital': 1403, 'legal': 1404, 'gratuita': 1405, 'formato': 1406, 'electrónico': 1407, 'online': 1408, 'pdf': 1409, 'epub': 1410, 'mobi': 1411, 'hotel': 1412, 'maison': 1413, 'carrée': 1414, 'c': 1415, 'des': 1416, 'ramal': 1417, '48': 1418, '07730': 1419, 'alayor': 1420, 'menorca': 1421, 'islas': 1422, 'baleares': 1423, 'españa': 1424, 'info': 1425, 'gratuito': 1426, 'promoción': 1427, 'lectura': 1428, 'ayúdanos': 1429, 'nuestros': 1430, 'lleguen': 1431, 'compartiendo': 1432, 'lecturas': 1433, 'redes': 1434, 'sociales': 1435, 'quieres': 1436, 'donación': 1437, 'mantener': 1438, 'posibilitar': 1439, 'siga': 1440, 'creciendo': 1441}\n"
          ]
        }
      ]
    },
    {
      "cell_type": "markdown",
      "source": [
        "### Separación del dataset\n"
      ],
      "metadata": {
        "id": "PfaMBkb5HBmM"
      }
    },
    {
      "cell_type": "markdown",
      "source": [
        " Separo la porción de texto utilizada en entrenamiento de la de validación (20%)."
      ],
      "metadata": {
        "id": "zvyTq0fedCRB"
      }
    },
    {
      "cell_type": "code",
      "source": [
        "# Proporción del corpus que se reservará para validación\n",
        "p_val = 0.2"
      ],
      "metadata": {
        "id": "ZleZHfhUdNf4"
      },
      "execution_count": 91,
      "outputs": []
    },
    {
      "cell_type": "code",
      "source": [
        "tokenized_sentences_train, tokenized_sentences_val, _, _ = train_test_split(tokenized_sentences_df,\n",
        "                                                                            tokenized_sentences_df,\n",
        "                                                                            test_size=p_val,\n",
        "                                                                            random_state=42)\n",
        "\n"
      ],
      "metadata": {
        "id": "GybRBEXUb3xo"
      },
      "execution_count": 92,
      "outputs": []
    },
    {
      "cell_type": "code",
      "source": [
        "tok_sent= []\n",
        "\n",
        "for sent in tokenized_sentences_train:\n",
        "\n",
        "  # si la secuencia tiene más términos que el tamaño de contexto máximo,\n",
        "  # armar varias sub-secuencias de tamaño máximo\n",
        "  if len(sent) > (max_context_size+1):\n",
        "\n",
        "    extra = len(sent)-(max_context_size+1) + 1\n",
        "\n",
        "    for i in range(extra):\n",
        "      tok_sent.append(sent[i:i+max_context_size+1])\n",
        "\n",
        "  else:\n",
        "    # si la secuencia tiene menos términos el tamaño de contexto máximo, queda como está\n",
        "    tok_sent.append(sent)\n"
      ],
      "metadata": {
        "id": "VeOovt9YmEtz"
      },
      "execution_count": 93,
      "outputs": []
    },
    {
      "cell_type": "code",
      "source": [
        "tok_sent_augm = []\n",
        "\n",
        "for sent in tok_sent:\n",
        "\n",
        "  # Generar sub-secuencias\n",
        "  subseq = [sent[:i+2] for i in range(len(sent)-1)]\n",
        "\n",
        "  # Padding al tamaño de contexto máximo\n",
        "  tok_sent_augm.append(pad_sequences(subseq, maxlen=max_context_size+1, padding='pre'))"
      ],
      "metadata": {
        "id": "n5Xvgil1mSWi"
      },
      "execution_count": 94,
      "outputs": []
    },
    {
      "cell_type": "code",
      "source": [
        "# Concatenar todas las secuencias en un único array de numpy\n",
        "train_seqs = np.concatenate(tok_sent_augm, axis=0)\n",
        "\n",
        "# Entradas y targets para el entrenamiento\n",
        "X = train_seqs[:,:-1]\n",
        "y = train_seqs[:,1:]\n",
        "\n",
        "print(X.shape)\n",
        "print(y.shape)"
      ],
      "metadata": {
        "id": "sRgFp_E3xwBd",
        "colab": {
          "base_uri": "https://localhost:8080/"
        },
        "outputId": "2d03a199-4c5d-482b-e71c-d4716ae9e17e"
      },
      "execution_count": 95,
      "outputs": [
        {
          "output_type": "stream",
          "name": "stdout",
          "text": [
            "(5424, 14)\n",
            "(5424, 14)\n"
          ]
        }
      ]
    },
    {
      "cell_type": "markdown",
      "source": [
        "### Arquitectura del modelo\n"
      ],
      "metadata": {
        "id": "N1NxpbLB7fYn"
      }
    },
    {
      "cell_type": "code",
      "source": [
        "class PplCallback(keras.callbacks.Callback):\n",
        "\n",
        "    '''\n",
        "    Este callback es una solución ad-hoc para calcular al final de cada epoch de\n",
        "    entrenamiento la métrica de Perplejidad sobre un conjunto de datos de validación.\n",
        "    La perplejidad es una métrica cuantitativa para evaluar la calidad de la generación de secuencias.\n",
        "    Además implementa la finalización del entrenamiento (Early Stopping)\n",
        "    si la perplejidad no mejora después de `patience` epochs.\n",
        "    '''\n",
        "\n",
        "    def __init__(self, val_data, history_ppl, n_exp, patience=10):\n",
        "      # El callback lo inicializamos con secuencias de validación sobre las cuales\n",
        "      # mediremos la perplejidad y la paciencia para detener el entrenamiento.\n",
        "      self.val_data = val_data\n",
        "\n",
        "      self.target = []\n",
        "      self.padded = []\n",
        "      self.n_exp = n_exp\n",
        "\n",
        "      count = 0\n",
        "      self.info = []\n",
        "      self.history_ppl = []\n",
        "      self.min_score = np.inf\n",
        "      self.patience_counter = 0\n",
        "      self.patience = patience\n",
        "\n",
        "      # nos movemos en todas las secuencias de los datos de validación\n",
        "      for seq in self.val_data:\n",
        "\n",
        "        len_seq = len(seq)\n",
        "        # armamos todas las subsecuencias\n",
        "        subseq = [seq[:i] for i in range(len_seq)]\n",
        "        self.target.extend([seq[i] for i in range(len_seq)])\n",
        "\n",
        "        if len(subseq)!=0:\n",
        "\n",
        "          self.padded.append(pad_sequences(subseq, maxlen=max_context_size, padding='pre'))\n",
        "\n",
        "          self.info.append((count,count+len_seq))\n",
        "          count += len_seq\n",
        "\n",
        "      self.padded = np.vstack(self.padded)\n",
        "\n",
        "\n",
        "    def on_epoch_end(self, epoch, logs=None):\n",
        "\n",
        "        # en `scores` iremos guardando la perplejidad de cada secuencia\n",
        "        scores = []\n",
        "\n",
        "        predictions = self.model.predict(self.padded,verbose=0)\n",
        "\n",
        "        # para cada secuencia de validación\n",
        "        for start,end in self.info:\n",
        "\n",
        "          # en `probs` iremos guardando las probabilidades de los términos target\n",
        "          probs = [predictions[idx_seq,-1,idx_vocab] for idx_seq, idx_vocab in zip(range(start,end),self.target[start:end])]\n",
        "\n",
        "          # calculamos la perplejidad por medio de logaritmos\n",
        "          scores.append(np.exp(-np.sum(np.log(probs))/(end-start)))\n",
        "\n",
        "        # promediamos todos los scores e imprimimos el valor promedio\n",
        "        current_score = np.mean(scores)\n",
        "        history_ppl.append(current_score)\n",
        "        print(f'\\n mean perplexity: {current_score} \\n')\n",
        "\n",
        "        # chequeamos si tenemos que detener el entrenamiento\n",
        "        if current_score < self.min_score:\n",
        "          self.min_score = current_score\n",
        "          self.model.save(f\"model_{self.n_exp}.keras\")\n",
        "          print(\"Saved new model!\\n\")\n",
        "          self.patience_counter = 0\n",
        "        else:\n",
        "          self.patience_counter += 1\n",
        "          if self.patience_counter == self.patience:\n",
        "            print(\"Stopping training...\")\n",
        "            self.model.stop_training = True"
      ],
      "metadata": {
        "id": "a8U_lOCJkB4I"
      },
      "execution_count": 96,
      "outputs": []
    },
    {
      "cell_type": "code",
      "source": [
        "print(vocab_words_size)\n",
        "print(f'Raíz cuadrada del tamaño del vocabulario: {vocab_words_size ** 0.5}')\n",
        "print(f'Raíz cuarta del tamaño del vocabulario: {vocab_words_size ** 0.25}')"
      ],
      "metadata": {
        "colab": {
          "base_uri": "https://localhost:8080/"
        },
        "id": "HLf89VeOJFpo",
        "outputId": "a0c2a24b-c40d-47e9-c657-3c701e9b80d1"
      },
      "execution_count": 97,
      "outputs": [
        {
          "output_type": "stream",
          "name": "stdout",
          "text": [
            "1441\n",
            "Raíz cuadrada del tamaño del vocabulario: 37.960505792204614\n",
            "Raíz cuarta del tamaño del vocabulario: 6.161209766937384\n"
          ]
        }
      ]
    },
    {
      "cell_type": "code",
      "source": [
        "# Tamaño del embedding\n",
        "embedding_size = 40\n",
        "\n",
        "# Nro. de neuronas x capa\n",
        "n_neurons_1 = 128\n",
        "n_neurons_2 = 64\n",
        "\n",
        "# DropOut\n",
        "p_dropout = 0.2"
      ],
      "metadata": {
        "id": "vMQ6bWPjoHJz"
      },
      "execution_count": 98,
      "outputs": []
    },
    {
      "cell_type": "markdown",
      "source": [
        "#### Arquitectura A - LSTM"
      ],
      "metadata": {
        "id": "GlMysR7z_H7Y"
      }
    },
    {
      "cell_type": "markdown",
      "source": [
        "* Modelo de red neuronal utilizando LSTM (Long Short-Term Memory).  \n",
        "\n",
        " 1) Embedding Layer: Los índices de las palabras en la secuencia de entrada se convierten en vectores densos de n dimensiones. Esto permite que el modelo trabaje con representaciones continuas de las palabras, lo que es útil para tareas de PLN.  \n",
        "\n",
        " 2) LSTM Layers: Estas capas LSTM procesan las secuencias de palabras y aprenden las dependencias temporales en los datos. La primera capa LSTM captura patrones a corto plazo, y la segunda capa LSTM trata de aprender dependencias a largo plazo.  \n",
        "\n",
        " 3) Dense Layer: La capa final densa genera una predicción para cada token del vocabulario.   \n",
        "La activación softmax convierte estas predicciones en probabilidades de cada clase.\n",
        "\n",
        "* SparseCategoricalCrossentropy como función de pérdida (apropiada para clasificación multiclase).\n",
        "\n",
        "* Optimizador RMSprop"
      ],
      "metadata": {
        "id": "jE_DKJvZ_aVg"
      }
    },
    {
      "cell_type": "code",
      "source": [
        "modelA = Sequential()\n",
        "\n",
        "modelA.add(Input(shape=(None,)))\n",
        "modelA.add(Embedding(input_dim=vocab_words_size+1, output_dim=embedding_size))\n",
        "modelA.add(LSTM(n_neurons_1, return_sequences=True))\n",
        "modelA.add(Dropout(p_dropout))\n",
        "modelA.add(LSTM(n_neurons_2, return_sequences=True))\n",
        "modelA.add(Dense(vocab_words_size+1, activation='softmax'))\n",
        "modelA.compile(loss=SparseCategoricalCrossentropy(), optimizer='rmsprop')"
      ],
      "metadata": {
        "id": "bj1VzaQxLw_D"
      },
      "execution_count": 99,
      "outputs": []
    },
    {
      "cell_type": "code",
      "source": [
        "modelA.summary()"
      ],
      "metadata": {
        "colab": {
          "base_uri": "https://localhost:8080/",
          "height": 306
        },
        "id": "H2cxt0tqMIzb",
        "outputId": "f954188d-d96d-4491-bfd9-676019707ff8"
      },
      "execution_count": 100,
      "outputs": [
        {
          "output_type": "display_data",
          "data": {
            "text/plain": [
              "\u001b[1mModel: \"sequential_3\"\u001b[0m\n"
            ],
            "text/html": [
              "<pre style=\"white-space:pre;overflow-x:auto;line-height:normal;font-family:Menlo,'DejaVu Sans Mono',consolas,'Courier New',monospace\"><span style=\"font-weight: bold\">Model: \"sequential_3\"</span>\n",
              "</pre>\n"
            ]
          },
          "metadata": {}
        },
        {
          "output_type": "display_data",
          "data": {
            "text/plain": [
              "┏━━━━━━━━━━━━━━━━━━━━━━━━━━━━━━━━━━━━━━┳━━━━━━━━━━━━━━━━━━━━━━━━━━━━━┳━━━━━━━━━━━━━━━━━┓\n",
              "┃\u001b[1m \u001b[0m\u001b[1mLayer (type)                        \u001b[0m\u001b[1m \u001b[0m┃\u001b[1m \u001b[0m\u001b[1mOutput Shape               \u001b[0m\u001b[1m \u001b[0m┃\u001b[1m \u001b[0m\u001b[1m        Param #\u001b[0m\u001b[1m \u001b[0m┃\n",
              "┡━━━━━━━━━━━━━━━━━━━━━━━━━━━━━━━━━━━━━━╇━━━━━━━━━━━━━━━━━━━━━━━━━━━━━╇━━━━━━━━━━━━━━━━━┩\n",
              "│ embedding_3 (\u001b[38;5;33mEmbedding\u001b[0m)              │ (\u001b[38;5;45mNone\u001b[0m, \u001b[38;5;45mNone\u001b[0m, \u001b[38;5;34m40\u001b[0m)            │          \u001b[38;5;34m57,680\u001b[0m │\n",
              "├──────────────────────────────────────┼─────────────────────────────┼─────────────────┤\n",
              "│ lstm_2 (\u001b[38;5;33mLSTM\u001b[0m)                        │ (\u001b[38;5;45mNone\u001b[0m, \u001b[38;5;45mNone\u001b[0m, \u001b[38;5;34m128\u001b[0m)           │          \u001b[38;5;34m86,528\u001b[0m │\n",
              "├──────────────────────────────────────┼─────────────────────────────┼─────────────────┤\n",
              "│ dropout_3 (\u001b[38;5;33mDropout\u001b[0m)                  │ (\u001b[38;5;45mNone\u001b[0m, \u001b[38;5;45mNone\u001b[0m, \u001b[38;5;34m128\u001b[0m)           │               \u001b[38;5;34m0\u001b[0m │\n",
              "├──────────────────────────────────────┼─────────────────────────────┼─────────────────┤\n",
              "│ lstm_3 (\u001b[38;5;33mLSTM\u001b[0m)                        │ (\u001b[38;5;45mNone\u001b[0m, \u001b[38;5;45mNone\u001b[0m, \u001b[38;5;34m64\u001b[0m)            │          \u001b[38;5;34m49,408\u001b[0m │\n",
              "├──────────────────────────────────────┼─────────────────────────────┼─────────────────┤\n",
              "│ dense_3 (\u001b[38;5;33mDense\u001b[0m)                      │ (\u001b[38;5;45mNone\u001b[0m, \u001b[38;5;45mNone\u001b[0m, \u001b[38;5;34m1442\u001b[0m)          │          \u001b[38;5;34m93,730\u001b[0m │\n",
              "└──────────────────────────────────────┴─────────────────────────────┴─────────────────┘\n"
            ],
            "text/html": [
              "<pre style=\"white-space:pre;overflow-x:auto;line-height:normal;font-family:Menlo,'DejaVu Sans Mono',consolas,'Courier New',monospace\">┏━━━━━━━━━━━━━━━━━━━━━━━━━━━━━━━━━━━━━━┳━━━━━━━━━━━━━━━━━━━━━━━━━━━━━┳━━━━━━━━━━━━━━━━━┓\n",
              "┃<span style=\"font-weight: bold\"> Layer (type)                         </span>┃<span style=\"font-weight: bold\"> Output Shape                </span>┃<span style=\"font-weight: bold\">         Param # </span>┃\n",
              "┡━━━━━━━━━━━━━━━━━━━━━━━━━━━━━━━━━━━━━━╇━━━━━━━━━━━━━━━━━━━━━━━━━━━━━╇━━━━━━━━━━━━━━━━━┩\n",
              "│ embedding_3 (<span style=\"color: #0087ff; text-decoration-color: #0087ff\">Embedding</span>)              │ (<span style=\"color: #00d7ff; text-decoration-color: #00d7ff\">None</span>, <span style=\"color: #00d7ff; text-decoration-color: #00d7ff\">None</span>, <span style=\"color: #00af00; text-decoration-color: #00af00\">40</span>)            │          <span style=\"color: #00af00; text-decoration-color: #00af00\">57,680</span> │\n",
              "├──────────────────────────────────────┼─────────────────────────────┼─────────────────┤\n",
              "│ lstm_2 (<span style=\"color: #0087ff; text-decoration-color: #0087ff\">LSTM</span>)                        │ (<span style=\"color: #00d7ff; text-decoration-color: #00d7ff\">None</span>, <span style=\"color: #00d7ff; text-decoration-color: #00d7ff\">None</span>, <span style=\"color: #00af00; text-decoration-color: #00af00\">128</span>)           │          <span style=\"color: #00af00; text-decoration-color: #00af00\">86,528</span> │\n",
              "├──────────────────────────────────────┼─────────────────────────────┼─────────────────┤\n",
              "│ dropout_3 (<span style=\"color: #0087ff; text-decoration-color: #0087ff\">Dropout</span>)                  │ (<span style=\"color: #00d7ff; text-decoration-color: #00d7ff\">None</span>, <span style=\"color: #00d7ff; text-decoration-color: #00d7ff\">None</span>, <span style=\"color: #00af00; text-decoration-color: #00af00\">128</span>)           │               <span style=\"color: #00af00; text-decoration-color: #00af00\">0</span> │\n",
              "├──────────────────────────────────────┼─────────────────────────────┼─────────────────┤\n",
              "│ lstm_3 (<span style=\"color: #0087ff; text-decoration-color: #0087ff\">LSTM</span>)                        │ (<span style=\"color: #00d7ff; text-decoration-color: #00d7ff\">None</span>, <span style=\"color: #00d7ff; text-decoration-color: #00d7ff\">None</span>, <span style=\"color: #00af00; text-decoration-color: #00af00\">64</span>)            │          <span style=\"color: #00af00; text-decoration-color: #00af00\">49,408</span> │\n",
              "├──────────────────────────────────────┼─────────────────────────────┼─────────────────┤\n",
              "│ dense_3 (<span style=\"color: #0087ff; text-decoration-color: #0087ff\">Dense</span>)                      │ (<span style=\"color: #00d7ff; text-decoration-color: #00d7ff\">None</span>, <span style=\"color: #00d7ff; text-decoration-color: #00d7ff\">None</span>, <span style=\"color: #00af00; text-decoration-color: #00af00\">1442</span>)          │          <span style=\"color: #00af00; text-decoration-color: #00af00\">93,730</span> │\n",
              "└──────────────────────────────────────┴─────────────────────────────┴─────────────────┘\n",
              "</pre>\n"
            ]
          },
          "metadata": {}
        },
        {
          "output_type": "display_data",
          "data": {
            "text/plain": [
              "\u001b[1m Total params: \u001b[0m\u001b[38;5;34m287,346\u001b[0m (1.10 MB)\n"
            ],
            "text/html": [
              "<pre style=\"white-space:pre;overflow-x:auto;line-height:normal;font-family:Menlo,'DejaVu Sans Mono',consolas,'Courier New',monospace\"><span style=\"font-weight: bold\"> Total params: </span><span style=\"color: #00af00; text-decoration-color: #00af00\">287,346</span> (1.10 MB)\n",
              "</pre>\n"
            ]
          },
          "metadata": {}
        },
        {
          "output_type": "display_data",
          "data": {
            "text/plain": [
              "\u001b[1m Trainable params: \u001b[0m\u001b[38;5;34m287,346\u001b[0m (1.10 MB)\n"
            ],
            "text/html": [
              "<pre style=\"white-space:pre;overflow-x:auto;line-height:normal;font-family:Menlo,'DejaVu Sans Mono',consolas,'Courier New',monospace\"><span style=\"font-weight: bold\"> Trainable params: </span><span style=\"color: #00af00; text-decoration-color: #00af00\">287,346</span> (1.10 MB)\n",
              "</pre>\n"
            ]
          },
          "metadata": {}
        },
        {
          "output_type": "display_data",
          "data": {
            "text/plain": [
              "\u001b[1m Non-trainable params: \u001b[0m\u001b[38;5;34m0\u001b[0m (0.00 B)\n"
            ],
            "text/html": [
              "<pre style=\"white-space:pre;overflow-x:auto;line-height:normal;font-family:Menlo,'DejaVu Sans Mono',consolas,'Courier New',monospace\"><span style=\"font-weight: bold\"> Non-trainable params: </span><span style=\"color: #00af00; text-decoration-color: #00af00\">0</span> (0.00 B)\n",
              "</pre>\n"
            ]
          },
          "metadata": {}
        }
      ]
    },
    {
      "cell_type": "markdown",
      "source": [
        "#### Arquitectura B - GRU"
      ],
      "metadata": {
        "id": "_8_2h4yIsukm"
      }
    },
    {
      "cell_type": "markdown",
      "source": [
        "* Embedding Layer: esta capa convierte los índices de las palabras en vectores densos.\n",
        "\n",
        "* GRU: capa GRU en lugar de LSTM.   \n",
        "Las redes GRU (Gated Recurrent Units) son más ligeras y a menudo más eficientes que las LSTM al modelar secuencias largas, sin perder demasiada capacidad de modelado.\n",
        "\n",
        "* Dropout: para evitar sobreajuste.\n",
        "\n",
        "* Dense Layer: La capa de salida con una activación softmax para clasificación multiclase.\n",
        "\n",
        "* SparseCategoricalCrossentropy para una clasificación multiclase (índices en lugar de one-hot encoding).\n",
        "\n",
        "* Optimizador RMSprop"
      ],
      "metadata": {
        "id": "e-rR1U4vtTb8"
      }
    },
    {
      "cell_type": "code",
      "source": [
        "modelB = Sequential()\n",
        "modelB.add(Input(shape=(None,)))\n",
        "modelB.add(Embedding(input_dim=vocab_words_size+1, output_dim=embedding_size))\n",
        "modelB.add(GRU(n_neurons_1, return_sequences=True))\n",
        "modelB.add(Dropout(p_dropout))\n",
        "modelB.add(GRU(n_neurons_2, return_sequences=True))\n",
        "modelB.add(Dense(vocab_words_size+1, activation='softmax'))\n",
        "modelB.compile(loss=SparseCategoricalCrossentropy(), optimizer='rmsprop')\n",
        "\n"
      ],
      "metadata": {
        "id": "cXaQKfrmMQg5"
      },
      "execution_count": 101,
      "outputs": []
    },
    {
      "cell_type": "code",
      "source": [
        "modelB.summary()"
      ],
      "metadata": {
        "colab": {
          "base_uri": "https://localhost:8080/",
          "height": 306
        },
        "id": "zYQlQXuSMd0n",
        "outputId": "a93fb64c-7261-491f-eff6-67f05d3cc799"
      },
      "execution_count": 102,
      "outputs": [
        {
          "output_type": "display_data",
          "data": {
            "text/plain": [
              "\u001b[1mModel: \"sequential_4\"\u001b[0m\n"
            ],
            "text/html": [
              "<pre style=\"white-space:pre;overflow-x:auto;line-height:normal;font-family:Menlo,'DejaVu Sans Mono',consolas,'Courier New',monospace\"><span style=\"font-weight: bold\">Model: \"sequential_4\"</span>\n",
              "</pre>\n"
            ]
          },
          "metadata": {}
        },
        {
          "output_type": "display_data",
          "data": {
            "text/plain": [
              "┏━━━━━━━━━━━━━━━━━━━━━━━━━━━━━━━━━━━━━━┳━━━━━━━━━━━━━━━━━━━━━━━━━━━━━┳━━━━━━━━━━━━━━━━━┓\n",
              "┃\u001b[1m \u001b[0m\u001b[1mLayer (type)                        \u001b[0m\u001b[1m \u001b[0m┃\u001b[1m \u001b[0m\u001b[1mOutput Shape               \u001b[0m\u001b[1m \u001b[0m┃\u001b[1m \u001b[0m\u001b[1m        Param #\u001b[0m\u001b[1m \u001b[0m┃\n",
              "┡━━━━━━━━━━━━━━━━━━━━━━━━━━━━━━━━━━━━━━╇━━━━━━━━━━━━━━━━━━━━━━━━━━━━━╇━━━━━━━━━━━━━━━━━┩\n",
              "│ embedding_4 (\u001b[38;5;33mEmbedding\u001b[0m)              │ (\u001b[38;5;45mNone\u001b[0m, \u001b[38;5;45mNone\u001b[0m, \u001b[38;5;34m40\u001b[0m)            │          \u001b[38;5;34m57,680\u001b[0m │\n",
              "├──────────────────────────────────────┼─────────────────────────────┼─────────────────┤\n",
              "│ gru_2 (\u001b[38;5;33mGRU\u001b[0m)                          │ (\u001b[38;5;45mNone\u001b[0m, \u001b[38;5;45mNone\u001b[0m, \u001b[38;5;34m128\u001b[0m)           │          \u001b[38;5;34m65,280\u001b[0m │\n",
              "├──────────────────────────────────────┼─────────────────────────────┼─────────────────┤\n",
              "│ dropout_4 (\u001b[38;5;33mDropout\u001b[0m)                  │ (\u001b[38;5;45mNone\u001b[0m, \u001b[38;5;45mNone\u001b[0m, \u001b[38;5;34m128\u001b[0m)           │               \u001b[38;5;34m0\u001b[0m │\n",
              "├──────────────────────────────────────┼─────────────────────────────┼─────────────────┤\n",
              "│ gru_3 (\u001b[38;5;33mGRU\u001b[0m)                          │ (\u001b[38;5;45mNone\u001b[0m, \u001b[38;5;45mNone\u001b[0m, \u001b[38;5;34m64\u001b[0m)            │          \u001b[38;5;34m37,248\u001b[0m │\n",
              "├──────────────────────────────────────┼─────────────────────────────┼─────────────────┤\n",
              "│ dense_4 (\u001b[38;5;33mDense\u001b[0m)                      │ (\u001b[38;5;45mNone\u001b[0m, \u001b[38;5;45mNone\u001b[0m, \u001b[38;5;34m1442\u001b[0m)          │          \u001b[38;5;34m93,730\u001b[0m │\n",
              "└──────────────────────────────────────┴─────────────────────────────┴─────────────────┘\n"
            ],
            "text/html": [
              "<pre style=\"white-space:pre;overflow-x:auto;line-height:normal;font-family:Menlo,'DejaVu Sans Mono',consolas,'Courier New',monospace\">┏━━━━━━━━━━━━━━━━━━━━━━━━━━━━━━━━━━━━━━┳━━━━━━━━━━━━━━━━━━━━━━━━━━━━━┳━━━━━━━━━━━━━━━━━┓\n",
              "┃<span style=\"font-weight: bold\"> Layer (type)                         </span>┃<span style=\"font-weight: bold\"> Output Shape                </span>┃<span style=\"font-weight: bold\">         Param # </span>┃\n",
              "┡━━━━━━━━━━━━━━━━━━━━━━━━━━━━━━━━━━━━━━╇━━━━━━━━━━━━━━━━━━━━━━━━━━━━━╇━━━━━━━━━━━━━━━━━┩\n",
              "│ embedding_4 (<span style=\"color: #0087ff; text-decoration-color: #0087ff\">Embedding</span>)              │ (<span style=\"color: #00d7ff; text-decoration-color: #00d7ff\">None</span>, <span style=\"color: #00d7ff; text-decoration-color: #00d7ff\">None</span>, <span style=\"color: #00af00; text-decoration-color: #00af00\">40</span>)            │          <span style=\"color: #00af00; text-decoration-color: #00af00\">57,680</span> │\n",
              "├──────────────────────────────────────┼─────────────────────────────┼─────────────────┤\n",
              "│ gru_2 (<span style=\"color: #0087ff; text-decoration-color: #0087ff\">GRU</span>)                          │ (<span style=\"color: #00d7ff; text-decoration-color: #00d7ff\">None</span>, <span style=\"color: #00d7ff; text-decoration-color: #00d7ff\">None</span>, <span style=\"color: #00af00; text-decoration-color: #00af00\">128</span>)           │          <span style=\"color: #00af00; text-decoration-color: #00af00\">65,280</span> │\n",
              "├──────────────────────────────────────┼─────────────────────────────┼─────────────────┤\n",
              "│ dropout_4 (<span style=\"color: #0087ff; text-decoration-color: #0087ff\">Dropout</span>)                  │ (<span style=\"color: #00d7ff; text-decoration-color: #00d7ff\">None</span>, <span style=\"color: #00d7ff; text-decoration-color: #00d7ff\">None</span>, <span style=\"color: #00af00; text-decoration-color: #00af00\">128</span>)           │               <span style=\"color: #00af00; text-decoration-color: #00af00\">0</span> │\n",
              "├──────────────────────────────────────┼─────────────────────────────┼─────────────────┤\n",
              "│ gru_3 (<span style=\"color: #0087ff; text-decoration-color: #0087ff\">GRU</span>)                          │ (<span style=\"color: #00d7ff; text-decoration-color: #00d7ff\">None</span>, <span style=\"color: #00d7ff; text-decoration-color: #00d7ff\">None</span>, <span style=\"color: #00af00; text-decoration-color: #00af00\">64</span>)            │          <span style=\"color: #00af00; text-decoration-color: #00af00\">37,248</span> │\n",
              "├──────────────────────────────────────┼─────────────────────────────┼─────────────────┤\n",
              "│ dense_4 (<span style=\"color: #0087ff; text-decoration-color: #0087ff\">Dense</span>)                      │ (<span style=\"color: #00d7ff; text-decoration-color: #00d7ff\">None</span>, <span style=\"color: #00d7ff; text-decoration-color: #00d7ff\">None</span>, <span style=\"color: #00af00; text-decoration-color: #00af00\">1442</span>)          │          <span style=\"color: #00af00; text-decoration-color: #00af00\">93,730</span> │\n",
              "└──────────────────────────────────────┴─────────────────────────────┴─────────────────┘\n",
              "</pre>\n"
            ]
          },
          "metadata": {}
        },
        {
          "output_type": "display_data",
          "data": {
            "text/plain": [
              "\u001b[1m Total params: \u001b[0m\u001b[38;5;34m253,938\u001b[0m (991.95 KB)\n"
            ],
            "text/html": [
              "<pre style=\"white-space:pre;overflow-x:auto;line-height:normal;font-family:Menlo,'DejaVu Sans Mono',consolas,'Courier New',monospace\"><span style=\"font-weight: bold\"> Total params: </span><span style=\"color: #00af00; text-decoration-color: #00af00\">253,938</span> (991.95 KB)\n",
              "</pre>\n"
            ]
          },
          "metadata": {}
        },
        {
          "output_type": "display_data",
          "data": {
            "text/plain": [
              "\u001b[1m Trainable params: \u001b[0m\u001b[38;5;34m253,938\u001b[0m (991.95 KB)\n"
            ],
            "text/html": [
              "<pre style=\"white-space:pre;overflow-x:auto;line-height:normal;font-family:Menlo,'DejaVu Sans Mono',consolas,'Courier New',monospace\"><span style=\"font-weight: bold\"> Trainable params: </span><span style=\"color: #00af00; text-decoration-color: #00af00\">253,938</span> (991.95 KB)\n",
              "</pre>\n"
            ]
          },
          "metadata": {}
        },
        {
          "output_type": "display_data",
          "data": {
            "text/plain": [
              "\u001b[1m Non-trainable params: \u001b[0m\u001b[38;5;34m0\u001b[0m (0.00 B)\n"
            ],
            "text/html": [
              "<pre style=\"white-space:pre;overflow-x:auto;line-height:normal;font-family:Menlo,'DejaVu Sans Mono',consolas,'Courier New',monospace\"><span style=\"font-weight: bold\"> Non-trainable params: </span><span style=\"color: #00af00; text-decoration-color: #00af00\">0</span> (0.00 B)\n",
              "</pre>\n"
            ]
          },
          "metadata": {}
        }
      ]
    },
    {
      "cell_type": "markdown",
      "source": [
        "#### Arquitectura C - RNN"
      ],
      "metadata": {
        "id": "SdzAJ7D17PnQ"
      }
    },
    {
      "cell_type": "markdown",
      "source": [
        "* Embedding: Las palabras se transforman en vectores densos de longitud embedding_size mediante una capa de Embedding.  \n",
        "\n",
        "* SimpleRNN: Dos capas de SimpleRNN procesan las secuencias con la opción de devolver secuencias completas (return_sequences=True), lo que permite que la salida de cada capa sea una secuencia de la misma longitud que la entrada.\n",
        "\n",
        "* Dropout: para prevenir el sobreajuste durante el entrenamiento, eliminando aleatoriamente el 20% de las unidades de la capa.\n",
        "\n",
        "* Salida: La capa densa final tiene un número de neuronas igual al tamaño del vocabulario, con una función de activación softmax para producir probabilidades sobre las posibles palabras siguientes en la secuencia."
      ],
      "metadata": {
        "id": "WZ0mxGta8SDQ"
      }
    },
    {
      "cell_type": "code",
      "source": [
        "modelC = Sequential()\n",
        "modelC.add(Input(shape=(None,)))\n",
        "modelC.add(Embedding(input_dim=vocab_words_size+1, output_dim=embedding_size))\n",
        "modelC.add(SimpleRNN(n_neurons_1, return_sequences=True))\n",
        "modelC.add(Dropout(p_dropout))\n",
        "modelC.add(SimpleRNN(n_neurons_2, return_sequences=True))\n",
        "modelC.add(Dense(vocab_words_size+1, activation='softmax'))\n",
        "modelC.compile(loss=SparseCategoricalCrossentropy(), optimizer='rmsprop')\n"
      ],
      "metadata": {
        "id": "AtbBpD6JMkQZ"
      },
      "execution_count": 103,
      "outputs": []
    },
    {
      "cell_type": "code",
      "source": [
        "modelC.summary()"
      ],
      "metadata": {
        "colab": {
          "base_uri": "https://localhost:8080/",
          "height": 306
        },
        "id": "6apUC0IlMxU4",
        "outputId": "716b5844-c985-4ef2-bef4-9b5a8f98b047"
      },
      "execution_count": 104,
      "outputs": [
        {
          "output_type": "display_data",
          "data": {
            "text/plain": [
              "\u001b[1mModel: \"sequential_5\"\u001b[0m\n"
            ],
            "text/html": [
              "<pre style=\"white-space:pre;overflow-x:auto;line-height:normal;font-family:Menlo,'DejaVu Sans Mono',consolas,'Courier New',monospace\"><span style=\"font-weight: bold\">Model: \"sequential_5\"</span>\n",
              "</pre>\n"
            ]
          },
          "metadata": {}
        },
        {
          "output_type": "display_data",
          "data": {
            "text/plain": [
              "┏━━━━━━━━━━━━━━━━━━━━━━━━━━━━━━━━━━━━━━┳━━━━━━━━━━━━━━━━━━━━━━━━━━━━━┳━━━━━━━━━━━━━━━━━┓\n",
              "┃\u001b[1m \u001b[0m\u001b[1mLayer (type)                        \u001b[0m\u001b[1m \u001b[0m┃\u001b[1m \u001b[0m\u001b[1mOutput Shape               \u001b[0m\u001b[1m \u001b[0m┃\u001b[1m \u001b[0m\u001b[1m        Param #\u001b[0m\u001b[1m \u001b[0m┃\n",
              "┡━━━━━━━━━━━━━━━━━━━━━━━━━━━━━━━━━━━━━━╇━━━━━━━━━━━━━━━━━━━━━━━━━━━━━╇━━━━━━━━━━━━━━━━━┩\n",
              "│ embedding_5 (\u001b[38;5;33mEmbedding\u001b[0m)              │ (\u001b[38;5;45mNone\u001b[0m, \u001b[38;5;45mNone\u001b[0m, \u001b[38;5;34m40\u001b[0m)            │          \u001b[38;5;34m57,680\u001b[0m │\n",
              "├──────────────────────────────────────┼─────────────────────────────┼─────────────────┤\n",
              "│ simple_rnn_2 (\u001b[38;5;33mSimpleRNN\u001b[0m)             │ (\u001b[38;5;45mNone\u001b[0m, \u001b[38;5;45mNone\u001b[0m, \u001b[38;5;34m128\u001b[0m)           │          \u001b[38;5;34m21,632\u001b[0m │\n",
              "├──────────────────────────────────────┼─────────────────────────────┼─────────────────┤\n",
              "│ dropout_5 (\u001b[38;5;33mDropout\u001b[0m)                  │ (\u001b[38;5;45mNone\u001b[0m, \u001b[38;5;45mNone\u001b[0m, \u001b[38;5;34m128\u001b[0m)           │               \u001b[38;5;34m0\u001b[0m │\n",
              "├──────────────────────────────────────┼─────────────────────────────┼─────────────────┤\n",
              "│ simple_rnn_3 (\u001b[38;5;33mSimpleRNN\u001b[0m)             │ (\u001b[38;5;45mNone\u001b[0m, \u001b[38;5;45mNone\u001b[0m, \u001b[38;5;34m64\u001b[0m)            │          \u001b[38;5;34m12,352\u001b[0m │\n",
              "├──────────────────────────────────────┼─────────────────────────────┼─────────────────┤\n",
              "│ dense_5 (\u001b[38;5;33mDense\u001b[0m)                      │ (\u001b[38;5;45mNone\u001b[0m, \u001b[38;5;45mNone\u001b[0m, \u001b[38;5;34m1442\u001b[0m)          │          \u001b[38;5;34m93,730\u001b[0m │\n",
              "└──────────────────────────────────────┴─────────────────────────────┴─────────────────┘\n"
            ],
            "text/html": [
              "<pre style=\"white-space:pre;overflow-x:auto;line-height:normal;font-family:Menlo,'DejaVu Sans Mono',consolas,'Courier New',monospace\">┏━━━━━━━━━━━━━━━━━━━━━━━━━━━━━━━━━━━━━━┳━━━━━━━━━━━━━━━━━━━━━━━━━━━━━┳━━━━━━━━━━━━━━━━━┓\n",
              "┃<span style=\"font-weight: bold\"> Layer (type)                         </span>┃<span style=\"font-weight: bold\"> Output Shape                </span>┃<span style=\"font-weight: bold\">         Param # </span>┃\n",
              "┡━━━━━━━━━━━━━━━━━━━━━━━━━━━━━━━━━━━━━━╇━━━━━━━━━━━━━━━━━━━━━━━━━━━━━╇━━━━━━━━━━━━━━━━━┩\n",
              "│ embedding_5 (<span style=\"color: #0087ff; text-decoration-color: #0087ff\">Embedding</span>)              │ (<span style=\"color: #00d7ff; text-decoration-color: #00d7ff\">None</span>, <span style=\"color: #00d7ff; text-decoration-color: #00d7ff\">None</span>, <span style=\"color: #00af00; text-decoration-color: #00af00\">40</span>)            │          <span style=\"color: #00af00; text-decoration-color: #00af00\">57,680</span> │\n",
              "├──────────────────────────────────────┼─────────────────────────────┼─────────────────┤\n",
              "│ simple_rnn_2 (<span style=\"color: #0087ff; text-decoration-color: #0087ff\">SimpleRNN</span>)             │ (<span style=\"color: #00d7ff; text-decoration-color: #00d7ff\">None</span>, <span style=\"color: #00d7ff; text-decoration-color: #00d7ff\">None</span>, <span style=\"color: #00af00; text-decoration-color: #00af00\">128</span>)           │          <span style=\"color: #00af00; text-decoration-color: #00af00\">21,632</span> │\n",
              "├──────────────────────────────────────┼─────────────────────────────┼─────────────────┤\n",
              "│ dropout_5 (<span style=\"color: #0087ff; text-decoration-color: #0087ff\">Dropout</span>)                  │ (<span style=\"color: #00d7ff; text-decoration-color: #00d7ff\">None</span>, <span style=\"color: #00d7ff; text-decoration-color: #00d7ff\">None</span>, <span style=\"color: #00af00; text-decoration-color: #00af00\">128</span>)           │               <span style=\"color: #00af00; text-decoration-color: #00af00\">0</span> │\n",
              "├──────────────────────────────────────┼─────────────────────────────┼─────────────────┤\n",
              "│ simple_rnn_3 (<span style=\"color: #0087ff; text-decoration-color: #0087ff\">SimpleRNN</span>)             │ (<span style=\"color: #00d7ff; text-decoration-color: #00d7ff\">None</span>, <span style=\"color: #00d7ff; text-decoration-color: #00d7ff\">None</span>, <span style=\"color: #00af00; text-decoration-color: #00af00\">64</span>)            │          <span style=\"color: #00af00; text-decoration-color: #00af00\">12,352</span> │\n",
              "├──────────────────────────────────────┼─────────────────────────────┼─────────────────┤\n",
              "│ dense_5 (<span style=\"color: #0087ff; text-decoration-color: #0087ff\">Dense</span>)                      │ (<span style=\"color: #00d7ff; text-decoration-color: #00d7ff\">None</span>, <span style=\"color: #00d7ff; text-decoration-color: #00d7ff\">None</span>, <span style=\"color: #00af00; text-decoration-color: #00af00\">1442</span>)          │          <span style=\"color: #00af00; text-decoration-color: #00af00\">93,730</span> │\n",
              "└──────────────────────────────────────┴─────────────────────────────┴─────────────────┘\n",
              "</pre>\n"
            ]
          },
          "metadata": {}
        },
        {
          "output_type": "display_data",
          "data": {
            "text/plain": [
              "\u001b[1m Total params: \u001b[0m\u001b[38;5;34m185,394\u001b[0m (724.20 KB)\n"
            ],
            "text/html": [
              "<pre style=\"white-space:pre;overflow-x:auto;line-height:normal;font-family:Menlo,'DejaVu Sans Mono',consolas,'Courier New',monospace\"><span style=\"font-weight: bold\"> Total params: </span><span style=\"color: #00af00; text-decoration-color: #00af00\">185,394</span> (724.20 KB)\n",
              "</pre>\n"
            ]
          },
          "metadata": {}
        },
        {
          "output_type": "display_data",
          "data": {
            "text/plain": [
              "\u001b[1m Trainable params: \u001b[0m\u001b[38;5;34m185,394\u001b[0m (724.20 KB)\n"
            ],
            "text/html": [
              "<pre style=\"white-space:pre;overflow-x:auto;line-height:normal;font-family:Menlo,'DejaVu Sans Mono',consolas,'Courier New',monospace\"><span style=\"font-weight: bold\"> Trainable params: </span><span style=\"color: #00af00; text-decoration-color: #00af00\">185,394</span> (724.20 KB)\n",
              "</pre>\n"
            ]
          },
          "metadata": {}
        },
        {
          "output_type": "display_data",
          "data": {
            "text/plain": [
              "\u001b[1m Non-trainable params: \u001b[0m\u001b[38;5;34m0\u001b[0m (0.00 B)\n"
            ],
            "text/html": [
              "<pre style=\"white-space:pre;overflow-x:auto;line-height:normal;font-family:Menlo,'DejaVu Sans Mono',consolas,'Courier New',monospace\"><span style=\"font-weight: bold\"> Non-trainable params: </span><span style=\"color: #00af00; text-decoration-color: #00af00\">0</span> (0.00 B)\n",
              "</pre>\n"
            ]
          },
          "metadata": {}
        }
      ]
    },
    {
      "cell_type": "markdown",
      "source": [
        "### Entrenamiento"
      ],
      "metadata": {
        "id": "cQmg_6fKuhtm"
      }
    },
    {
      "cell_type": "code",
      "source": [
        "def graphResults(i, loss, ppl):\n",
        "\n",
        "  fig, ax1 = plt.subplots(figsize=(10, 5))\n",
        "\n",
        "  ax1.plot(loss, label='Pérdida de entrenamiento', color='blue')\n",
        "  ax1.set_xlabel('Época')\n",
        "  ax1.set_ylabel('Pérdida', color='blue')\n",
        "  ax1.tick_params(axis='y', labelcolor='blue')\n",
        "  ax1.legend(loc='upper left')\n",
        "\n",
        "  ax2 = ax1.twinx()\n",
        "  ax2.plot(ppl, label='Perplejidad', color='red')\n",
        "  ax2.set_ylabel('Perplejidad', color='red')\n",
        "  ax2.tick_params(axis='y', labelcolor='red')\n",
        "  ax2.legend(loc='upper right')\n",
        "\n",
        "  plt.title(f'Experimento {i}')\n",
        "\n",
        "  plt.show()"
      ],
      "metadata": {
        "id": "GD_6fh2fZ9NM"
      },
      "execution_count": 105,
      "outputs": []
    },
    {
      "cell_type": "code",
      "source": [
        "n_epochs = 25\n",
        "batch_size = 64\n",
        "history_ppl_results = {}"
      ],
      "metadata": {
        "id": "wsMYCmMPnA2X"
      },
      "execution_count": 106,
      "outputs": []
    },
    {
      "cell_type": "markdown",
      "source": [
        "#### 1 (A)"
      ],
      "metadata": {
        "id": "uBclrTZwUq2N"
      }
    },
    {
      "cell_type": "code",
      "source": [
        "history_ppl = []\n",
        "n_exp = 1\n",
        "\n",
        "hist_1 = modelA.fit(X, y, epochs=n_epochs,\n",
        "                    callbacks=[PplCallback(val_data=tokenized_sentences_val, history_ppl=history_ppl, n_exp=n_exp)], batch_size=batch_size)\n",
        "\n",
        "history_ppl_results[n_exp] = history_ppl\n",
        "\n"
      ],
      "metadata": {
        "id": "7UcOo2nTU30g",
        "colab": {
          "base_uri": "https://localhost:8080/"
        },
        "outputId": "4651ef0b-91f8-4ab2-ff50-47b63e40ba83"
      },
      "execution_count": 107,
      "outputs": [
        {
          "output_type": "stream",
          "name": "stdout",
          "text": [
            "Epoch 1/25\n",
            "\u001b[1m85/85\u001b[0m \u001b[32m━━━━━━━━━━━━━━━━━━━━\u001b[0m\u001b[37m\u001b[0m \u001b[1m0s\u001b[0m 122ms/step - loss: 5.9537\n",
            " mean perplexity: 2061.6368500633516 \n",
            "\n",
            "Saved new model!\n",
            "\n",
            "\u001b[1m85/85\u001b[0m \u001b[32m━━━━━━━━━━━━━━━━━━━━\u001b[0m\u001b[37m\u001b[0m \u001b[1m18s\u001b[0m 138ms/step - loss: 5.9415\n",
            "Epoch 2/25\n",
            "\u001b[1m85/85\u001b[0m \u001b[32m━━━━━━━━━━━━━━━━━━━━\u001b[0m\u001b[37m\u001b[0m \u001b[1m0s\u001b[0m 99ms/step - loss: 3.9524\n",
            " mean perplexity: 1367.5467733494443 \n",
            "\n",
            "Saved new model!\n",
            "\n",
            "\u001b[1m85/85\u001b[0m \u001b[32m━━━━━━━━━━━━━━━━━━━━\u001b[0m\u001b[37m\u001b[0m \u001b[1m18s\u001b[0m 108ms/step - loss: 3.9516\n",
            "Epoch 3/25\n",
            "\u001b[1m85/85\u001b[0m \u001b[32m━━━━━━━━━━━━━━━━━━━━\u001b[0m\u001b[37m\u001b[0m \u001b[1m0s\u001b[0m 84ms/step - loss: 3.5363\n",
            " mean perplexity: 1325.1683079885163 \n",
            "\n",
            "Saved new model!\n",
            "\n",
            "\u001b[1m85/85\u001b[0m \u001b[32m━━━━━━━━━━━━━━━━━━━━\u001b[0m\u001b[37m\u001b[0m \u001b[1m9s\u001b[0m 92ms/step - loss: 3.5358\n",
            "Epoch 4/25\n",
            "\u001b[1m85/85\u001b[0m \u001b[32m━━━━━━━━━━━━━━━━━━━━\u001b[0m\u001b[37m\u001b[0m \u001b[1m0s\u001b[0m 87ms/step - loss: 3.4139\n",
            " mean perplexity: 1536.8650248664198 \n",
            "\n",
            "\u001b[1m85/85\u001b[0m \u001b[32m━━━━━━━━━━━━━━━━━━━━\u001b[0m\u001b[37m\u001b[0m \u001b[1m11s\u001b[0m 95ms/step - loss: 3.4137\n",
            "Epoch 5/25\n",
            "\u001b[1m85/85\u001b[0m \u001b[32m━━━━━━━━━━━━━━━━━━━━\u001b[0m\u001b[37m\u001b[0m \u001b[1m0s\u001b[0m 122ms/step - loss: 3.3818\n",
            " mean perplexity: 1634.1748554510712 \n",
            "\n",
            "\u001b[1m85/85\u001b[0m \u001b[32m━━━━━━━━━━━━━━━━━━━━\u001b[0m\u001b[37m\u001b[0m \u001b[1m13s\u001b[0m 130ms/step - loss: 3.3817\n",
            "Epoch 6/25\n",
            "\u001b[1m85/85\u001b[0m \u001b[32m━━━━━━━━━━━━━━━━━━━━\u001b[0m\u001b[37m\u001b[0m \u001b[1m0s\u001b[0m 102ms/step - loss: 3.3522\n",
            " mean perplexity: 1663.2447233627609 \n",
            "\n",
            "\u001b[1m85/85\u001b[0m \u001b[32m━━━━━━━━━━━━━━━━━━━━\u001b[0m\u001b[37m\u001b[0m \u001b[1m9s\u001b[0m 110ms/step - loss: 3.3522\n",
            "Epoch 7/25\n",
            "\u001b[1m85/85\u001b[0m \u001b[32m━━━━━━━━━━━━━━━━━━━━\u001b[0m\u001b[37m\u001b[0m \u001b[1m0s\u001b[0m 83ms/step - loss: 3.3488\n",
            " mean perplexity: 1732.1125565611433 \n",
            "\n",
            "\u001b[1m85/85\u001b[0m \u001b[32m━━━━━━━━━━━━━━━━━━━━\u001b[0m\u001b[37m\u001b[0m \u001b[1m8s\u001b[0m 91ms/step - loss: 3.3487\n",
            "Epoch 8/25\n",
            "\u001b[1m85/85\u001b[0m \u001b[32m━━━━━━━━━━━━━━━━━━━━\u001b[0m\u001b[37m\u001b[0m \u001b[1m0s\u001b[0m 83ms/step - loss: 3.3186\n",
            " mean perplexity: 1783.7802866503264 \n",
            "\n",
            "\u001b[1m85/85\u001b[0m \u001b[32m━━━━━━━━━━━━━━━━━━━━\u001b[0m\u001b[37m\u001b[0m \u001b[1m10s\u001b[0m 92ms/step - loss: 3.3188\n",
            "Epoch 9/25\n",
            "\u001b[1m85/85\u001b[0m \u001b[32m━━━━━━━━━━━━━━━━━━━━\u001b[0m\u001b[37m\u001b[0m \u001b[1m0s\u001b[0m 96ms/step - loss: 3.3052\n",
            " mean perplexity: 1918.9400512758539 \n",
            "\n",
            "\u001b[1m85/85\u001b[0m \u001b[32m━━━━━━━━━━━━━━━━━━━━\u001b[0m\u001b[37m\u001b[0m \u001b[1m11s\u001b[0m 102ms/step - loss: 3.3054\n",
            "Epoch 10/25\n",
            "\u001b[1m85/85\u001b[0m \u001b[32m━━━━━━━━━━━━━━━━━━━━\u001b[0m\u001b[37m\u001b[0m \u001b[1m0s\u001b[0m 108ms/step - loss: 3.2711\n",
            " mean perplexity: 1827.484657533404 \n",
            "\n",
            "\u001b[1m85/85\u001b[0m \u001b[32m━━━━━━━━━━━━━━━━━━━━\u001b[0m\u001b[37m\u001b[0m \u001b[1m10s\u001b[0m 116ms/step - loss: 3.2715\n",
            "Epoch 11/25\n",
            "\u001b[1m85/85\u001b[0m \u001b[32m━━━━━━━━━━━━━━━━━━━━\u001b[0m\u001b[37m\u001b[0m \u001b[1m0s\u001b[0m 83ms/step - loss: 3.3012\n",
            " mean perplexity: 1935.601044459039 \n",
            "\n",
            "\u001b[1m85/85\u001b[0m \u001b[32m━━━━━━━━━━━━━━━━━━━━\u001b[0m\u001b[37m\u001b[0m \u001b[1m8s\u001b[0m 91ms/step - loss: 3.3011\n",
            "Epoch 12/25\n",
            "\u001b[1m85/85\u001b[0m \u001b[32m━━━━━━━━━━━━━━━━━━━━\u001b[0m\u001b[37m\u001b[0m \u001b[1m0s\u001b[0m 82ms/step - loss: 3.2803\n",
            " mean perplexity: 1913.3307327594957 \n",
            "\n",
            "\u001b[1m85/85\u001b[0m \u001b[32m━━━━━━━━━━━━━━━━━━━━\u001b[0m\u001b[37m\u001b[0m \u001b[1m10s\u001b[0m 88ms/step - loss: 3.2801\n",
            "Epoch 13/25\n",
            "\u001b[1m85/85\u001b[0m \u001b[32m━━━━━━━━━━━━━━━━━━━━\u001b[0m\u001b[37m\u001b[0m \u001b[1m0s\u001b[0m 103ms/step - loss: 3.2448\n",
            " mean perplexity: 1753.4525441631558 \n",
            "\n",
            "Stopping training...\n",
            "\u001b[1m85/85\u001b[0m \u001b[32m━━━━━━━━━━━━━━━━━━━━\u001b[0m\u001b[37m\u001b[0m \u001b[1m9s\u001b[0m 111ms/step - loss: 3.2446\n"
          ]
        }
      ]
    },
    {
      "cell_type": "markdown",
      "source": [
        "#### 2 (B)"
      ],
      "metadata": {
        "id": "0vE5kQVZUrmS"
      }
    },
    {
      "cell_type": "code",
      "source": [
        "history_ppl = []\n",
        "n_exp = 2\n",
        "\n",
        "hist_2 = modelB.fit(X, y, epochs=n_epochs,\n",
        "                    callbacks=[PplCallback(val_data=tokenized_sentences_val, history_ppl=history_ppl, n_exp=n_exp)], batch_size=batch_size)\n",
        "\n",
        "history_ppl_results[n_exp] = history_ppl"
      ],
      "metadata": {
        "colab": {
          "base_uri": "https://localhost:8080/"
        },
        "id": "YGekatgypSBG",
        "outputId": "3d267677-252b-4766-c045-ff6e92748a55"
      },
      "execution_count": 108,
      "outputs": [
        {
          "output_type": "stream",
          "name": "stdout",
          "text": [
            "Epoch 1/25\n",
            "\u001b[1m85/85\u001b[0m \u001b[32m━━━━━━━━━━━━━━━━━━━━\u001b[0m\u001b[37m\u001b[0m \u001b[1m0s\u001b[0m 107ms/step - loss: 5.5869\n",
            " mean perplexity: 1936.4903319553966 \n",
            "\n",
            "Saved new model!\n",
            "\n",
            "\u001b[1m85/85\u001b[0m \u001b[32m━━━━━━━━━━━━━━━━━━━━\u001b[0m\u001b[37m\u001b[0m \u001b[1m15s\u001b[0m 121ms/step - loss: 5.5757\n",
            "Epoch 2/25\n",
            "\u001b[1m85/85\u001b[0m \u001b[32m━━━━━━━━━━━━━━━━━━━━\u001b[0m\u001b[37m\u001b[0m \u001b[1m0s\u001b[0m 109ms/step - loss: 3.8065\n",
            " mean perplexity: 1328.258328152155 \n",
            "\n",
            "Saved new model!\n",
            "\n",
            "\u001b[1m85/85\u001b[0m \u001b[32m━━━━━━━━━━━━━━━━━━━━\u001b[0m\u001b[37m\u001b[0m \u001b[1m10s\u001b[0m 115ms/step - loss: 3.8048\n",
            "Epoch 3/25\n",
            "\u001b[1m85/85\u001b[0m \u001b[32m━━━━━━━━━━━━━━━━━━━━\u001b[0m\u001b[37m\u001b[0m \u001b[1m0s\u001b[0m 88ms/step - loss: 3.3826\n",
            " mean perplexity: 1813.0832992425521 \n",
            "\n",
            "\u001b[1m85/85\u001b[0m \u001b[32m━━━━━━━━━━━━━━━━━━━━\u001b[0m\u001b[37m\u001b[0m \u001b[1m9s\u001b[0m 96ms/step - loss: 3.3826\n",
            "Epoch 4/25\n",
            "\u001b[1m85/85\u001b[0m \u001b[32m━━━━━━━━━━━━━━━━━━━━\u001b[0m\u001b[37m\u001b[0m \u001b[1m0s\u001b[0m 87ms/step - loss: 3.3432\n",
            " mean perplexity: 1746.5258344185117 \n",
            "\n",
            "\u001b[1m85/85\u001b[0m \u001b[32m━━━━━━━━━━━━━━━━━━━━\u001b[0m\u001b[37m\u001b[0m \u001b[1m10s\u001b[0m 96ms/step - loss: 3.3427\n",
            "Epoch 5/25\n",
            "\u001b[1m85/85\u001b[0m \u001b[32m━━━━━━━━━━━━━━━━━━━━\u001b[0m\u001b[37m\u001b[0m \u001b[1m0s\u001b[0m 104ms/step - loss: 3.1993\n",
            " mean perplexity: 2103.2640634769305 \n",
            "\n",
            "\u001b[1m85/85\u001b[0m \u001b[32m━━━━━━━━━━━━━━━━━━━━\u001b[0m\u001b[37m\u001b[0m \u001b[1m12s\u001b[0m 112ms/step - loss: 3.1991\n",
            "Epoch 6/25\n",
            "\u001b[1m85/85\u001b[0m \u001b[32m━━━━━━━━━━━━━━━━━━━━\u001b[0m\u001b[37m\u001b[0m \u001b[1m0s\u001b[0m 107ms/step - loss: 3.1249\n",
            " mean perplexity: 2197.592849209649 \n",
            "\n",
            "\u001b[1m85/85\u001b[0m \u001b[32m━━━━━━━━━━━━━━━━━━━━\u001b[0m\u001b[37m\u001b[0m \u001b[1m10s\u001b[0m 115ms/step - loss: 3.1245\n",
            "Epoch 7/25\n",
            "\u001b[1m85/85\u001b[0m \u001b[32m━━━━━━━━━━━━━━━━━━━━\u001b[0m\u001b[37m\u001b[0m \u001b[1m0s\u001b[0m 92ms/step - loss: 3.0138\n",
            " mean perplexity: 2401.6895814936197 \n",
            "\n",
            "\u001b[1m85/85\u001b[0m \u001b[32m━━━━━━━━━━━━━━━━━━━━\u001b[0m\u001b[37m\u001b[0m \u001b[1m9s\u001b[0m 101ms/step - loss: 3.0135\n",
            "Epoch 8/25\n",
            "\u001b[1m85/85\u001b[0m \u001b[32m━━━━━━━━━━━━━━━━━━━━\u001b[0m\u001b[37m\u001b[0m \u001b[1m0s\u001b[0m 94ms/step - loss: 2.8954\n",
            " mean perplexity: 2695.3291791312045 \n",
            "\n",
            "\u001b[1m85/85\u001b[0m \u001b[32m━━━━━━━━━━━━━━━━━━━━\u001b[0m\u001b[37m\u001b[0m \u001b[1m9s\u001b[0m 103ms/step - loss: 2.8953\n",
            "Epoch 9/25\n",
            "\u001b[1m85/85\u001b[0m \u001b[32m━━━━━━━━━━━━━━━━━━━━\u001b[0m\u001b[37m\u001b[0m \u001b[1m0s\u001b[0m 107ms/step - loss: 2.8175\n",
            " mean perplexity: 3048.9292339581903 \n",
            "\n",
            "\u001b[1m85/85\u001b[0m \u001b[32m━━━━━━━━━━━━━━━━━━━━\u001b[0m\u001b[37m\u001b[0m \u001b[1m10s\u001b[0m 116ms/step - loss: 2.8172\n",
            "Epoch 10/25\n",
            "\u001b[1m85/85\u001b[0m \u001b[32m━━━━━━━━━━━━━━━━━━━━\u001b[0m\u001b[37m\u001b[0m \u001b[1m0s\u001b[0m 95ms/step - loss: 2.7194\n",
            " mean perplexity: 3325.727881133512 \n",
            "\n",
            "\u001b[1m85/85\u001b[0m \u001b[32m━━━━━━━━━━━━━━━━━━━━\u001b[0m\u001b[37m\u001b[0m \u001b[1m9s\u001b[0m 103ms/step - loss: 2.7192\n",
            "Epoch 11/25\n",
            "\u001b[1m85/85\u001b[0m \u001b[32m━━━━━━━━━━━━━━━━━━━━\u001b[0m\u001b[37m\u001b[0m \u001b[1m0s\u001b[0m 94ms/step - loss: 2.6523\n",
            " mean perplexity: 3572.4257128932195 \n",
            "\n",
            "\u001b[1m85/85\u001b[0m \u001b[32m━━━━━━━━━━━━━━━━━━━━\u001b[0m\u001b[37m\u001b[0m \u001b[1m9s\u001b[0m 99ms/step - loss: 2.6521\n",
            "Epoch 12/25\n",
            "\u001b[1m85/85\u001b[0m \u001b[32m━━━━━━━━━━━━━━━━━━━━\u001b[0m\u001b[37m\u001b[0m \u001b[1m0s\u001b[0m 107ms/step - loss: 2.5767\n",
            " mean perplexity: 4051.16504723858 \n",
            "\n",
            "Stopping training...\n",
            "\u001b[1m85/85\u001b[0m \u001b[32m━━━━━━━━━━━━━━━━━━━━\u001b[0m\u001b[37m\u001b[0m \u001b[1m12s\u001b[0m 115ms/step - loss: 2.5766\n"
          ]
        }
      ]
    },
    {
      "cell_type": "markdown",
      "source": [
        "#### 3(C)"
      ],
      "metadata": {
        "id": "3UalnaYtUs0i"
      }
    },
    {
      "cell_type": "code",
      "source": [
        "history_ppl = []\n",
        "n_exp = 3\n",
        "\n",
        "hist_3 = modelC.fit(X, y, epochs=n_epochs,\n",
        "                    callbacks=[PplCallback(val_data=tokenized_sentences_val, history_ppl=history_ppl, n_exp=n_exp)], batch_size=batch_size)\n",
        "\n",
        "history_ppl_results[n_exp] = history_ppl"
      ],
      "metadata": {
        "colab": {
          "base_uri": "https://localhost:8080/"
        },
        "id": "TPrp7Hy8pXRR",
        "outputId": "0187d7f4-751d-4a84-95e0-fbb32ad4ed96"
      },
      "execution_count": 109,
      "outputs": [
        {
          "output_type": "stream",
          "name": "stdout",
          "text": [
            "Epoch 1/25\n",
            "\u001b[1m84/85\u001b[0m \u001b[32m━━━━━━━━━━━━━━━━━━━\u001b[0m\u001b[37m━\u001b[0m \u001b[1m0s\u001b[0m 78ms/step - loss: 5.4878\n",
            " mean perplexity: 1803.7777086421816 \n",
            "\n",
            "Saved new model!\n",
            "\n",
            "\u001b[1m85/85\u001b[0m \u001b[32m━━━━━━━━━━━━━━━━━━━━\u001b[0m\u001b[37m\u001b[0m \u001b[1m10s\u001b[0m 93ms/step - loss: 5.4670\n",
            "Epoch 2/25\n",
            "\u001b[1m85/85\u001b[0m \u001b[32m━━━━━━━━━━━━━━━━━━━━\u001b[0m\u001b[37m\u001b[0m \u001b[1m0s\u001b[0m 59ms/step - loss: 3.6085\n",
            " mean perplexity: 1463.3687163065695 \n",
            "\n",
            "Saved new model!\n",
            "\n",
            "\u001b[1m85/85\u001b[0m \u001b[32m━━━━━━━━━━━━━━━━━━━━\u001b[0m\u001b[37m\u001b[0m \u001b[1m5s\u001b[0m 64ms/step - loss: 3.6072\n",
            "Epoch 3/25\n",
            "\u001b[1m84/85\u001b[0m \u001b[32m━━━━━━━━━━━━━━━━━━━\u001b[0m\u001b[37m━\u001b[0m \u001b[1m0s\u001b[0m 59ms/step - loss: 3.3495\n",
            " mean perplexity: 1658.8590342544348 \n",
            "\n",
            "\u001b[1m85/85\u001b[0m \u001b[32m━━━━━━━━━━━━━━━━━━━━\u001b[0m\u001b[37m\u001b[0m \u001b[1m10s\u001b[0m 64ms/step - loss: 3.3496\n",
            "Epoch 4/25\n",
            "\u001b[1m84/85\u001b[0m \u001b[32m━━━━━━━━━━━━━━━━━━━\u001b[0m\u001b[37m━\u001b[0m \u001b[1m0s\u001b[0m 78ms/step - loss: 3.2802\n",
            " mean perplexity: 1606.2377645665356 \n",
            "\n",
            "\u001b[1m85/85\u001b[0m \u001b[32m━━━━━━━━━━━━━━━━━━━━\u001b[0m\u001b[37m\u001b[0m \u001b[1m12s\u001b[0m 82ms/step - loss: 3.2795\n",
            "Epoch 5/25\n",
            "\u001b[1m85/85\u001b[0m \u001b[32m━━━━━━━━━━━━━━━━━━━━\u001b[0m\u001b[37m\u001b[0m \u001b[1m0s\u001b[0m 82ms/step - loss: 3.1706\n",
            " mean perplexity: 1995.2378291151033 \n",
            "\n",
            "\u001b[1m85/85\u001b[0m \u001b[32m━━━━━━━━━━━━━━━━━━━━\u001b[0m\u001b[37m\u001b[0m \u001b[1m11s\u001b[0m 91ms/step - loss: 3.1698\n",
            "Epoch 6/25\n",
            "\u001b[1m84/85\u001b[0m \u001b[32m━━━━━━━━━━━━━━━━━━━\u001b[0m\u001b[37m━\u001b[0m \u001b[1m0s\u001b[0m 58ms/step - loss: 2.9727\n",
            " mean perplexity: 2328.6423693775264 \n",
            "\n",
            "\u001b[1m85/85\u001b[0m \u001b[32m━━━━━━━━━━━━━━━━━━━━\u001b[0m\u001b[37m\u001b[0m \u001b[1m8s\u001b[0m 62ms/step - loss: 2.9721\n",
            "Epoch 7/25\n",
            "\u001b[1m84/85\u001b[0m \u001b[32m━━━━━━━━━━━━━━━━━━━\u001b[0m\u001b[37m━\u001b[0m \u001b[1m0s\u001b[0m 59ms/step - loss: 2.8437\n",
            " mean perplexity: 2800.1301848700227 \n",
            "\n",
            "\u001b[1m85/85\u001b[0m \u001b[32m━━━━━━━━━━━━━━━━━━━━\u001b[0m\u001b[37m\u001b[0m \u001b[1m10s\u001b[0m 63ms/step - loss: 2.8430\n",
            "Epoch 8/25\n",
            "\u001b[1m84/85\u001b[0m \u001b[32m━━━━━━━━━━━━━━━━━━━\u001b[0m\u001b[37m━\u001b[0m \u001b[1m0s\u001b[0m 75ms/step - loss: 2.7250\n",
            " mean perplexity: 3737.7470138667472 \n",
            "\n",
            "\u001b[1m85/85\u001b[0m \u001b[32m━━━━━━━━━━━━━━━━━━━━\u001b[0m\u001b[37m\u001b[0m \u001b[1m12s\u001b[0m 83ms/step - loss: 2.7243\n",
            "Epoch 9/25\n",
            "\u001b[1m85/85\u001b[0m \u001b[32m━━━━━━━━━━━━━━━━━━━━\u001b[0m\u001b[37m\u001b[0m \u001b[1m0s\u001b[0m 73ms/step - loss: 2.6009\n",
            " mean perplexity: 3604.067292679895 \n",
            "\n",
            "\u001b[1m85/85\u001b[0m \u001b[32m━━━━━━━━━━━━━━━━━━━━\u001b[0m\u001b[37m\u001b[0m \u001b[1m10s\u001b[0m 81ms/step - loss: 2.6008\n",
            "Epoch 10/25\n",
            "\u001b[1m84/85\u001b[0m \u001b[32m━━━━━━━━━━━━━━━━━━━\u001b[0m\u001b[37m━\u001b[0m \u001b[1m0s\u001b[0m 58ms/step - loss: 2.4963\n",
            " mean perplexity: 4086.313485242625 \n",
            "\n",
            "\u001b[1m85/85\u001b[0m \u001b[32m━━━━━━━━━━━━━━━━━━━━\u001b[0m\u001b[37m\u001b[0m \u001b[1m9s\u001b[0m 62ms/step - loss: 2.4959\n",
            "Epoch 11/25\n",
            "\u001b[1m84/85\u001b[0m \u001b[32m━━━━━━━━━━━━━━━━━━━\u001b[0m\u001b[37m━\u001b[0m \u001b[1m0s\u001b[0m 59ms/step - loss: 2.3936\n",
            " mean perplexity: 4475.281628245377 \n",
            "\n",
            "\u001b[1m85/85\u001b[0m \u001b[32m━━━━━━━━━━━━━━━━━━━━\u001b[0m\u001b[37m\u001b[0m \u001b[1m10s\u001b[0m 63ms/step - loss: 2.3931\n",
            "Epoch 12/25\n",
            "\u001b[1m84/85\u001b[0m \u001b[32m━━━━━━━━━━━━━━━━━━━\u001b[0m\u001b[37m━\u001b[0m \u001b[1m0s\u001b[0m 60ms/step - loss: 2.2844\n",
            " mean perplexity: 4354.700936327043 \n",
            "\n",
            "Stopping training...\n",
            "\u001b[1m85/85\u001b[0m \u001b[32m━━━━━━━━━━━━━━━━━━━━\u001b[0m\u001b[37m\u001b[0m \u001b[1m10s\u001b[0m 63ms/step - loss: 2.2838\n"
          ]
        }
      ]
    },
    {
      "cell_type": "markdown",
      "source": [
        "#### Resultados de entrenamientos"
      ],
      "metadata": {
        "id": "QivFqFnwxYAJ"
      }
    },
    {
      "cell_type": "code",
      "source": [
        "graphResults(1, hist_1.history['loss'], history_ppl_results[1])\n",
        "graphResults(2, hist_2.history['loss'], history_ppl_results[2])\n",
        "graphResults(3, hist_3.history['loss'], history_ppl_results[3])"
      ],
      "metadata": {
        "colab": {
          "base_uri": "https://localhost:8080/",
          "height": 1000
        },
        "id": "NTtVnX60dxol",
        "outputId": "05e8e4d0-c156-4540-a26b-567b80a4fcf9"
      },
      "execution_count": 110,
      "outputs": [
        {
          "output_type": "display_data",
          "data": {
            "text/plain": [
              "<Figure size 1000x500 with 2 Axes>"
            ],
            "image/png": "[encoded data removed]"
          },
          "metadata": {}
        },
        {
          "output_type": "display_data",
          "data": {
            "text/plain": [
              "<Figure size 1000x500 with 2 Axes>"
            ],
            "image/png": "[encoded data removed]"
          },
          "metadata": {}
        },
        {
          "output_type": "display_data",
          "data": {
            "text/plain": [
              "<Figure size 1000x500 with 2 Axes>"
            ],
            "image/png": "[encoded data removed]"
          },
          "metadata": {}
        }
      ]
    },
    {
      "cell_type": "code",
      "source": [
        "# Tomar valor mínimo de perplejidad por experimento\n",
        "history_ppl_results_mins = {}\n",
        "for i, values in history_ppl_results.items():\n",
        "  history_ppl_results_mins[i] = min(values)"
      ],
      "metadata": {
        "id": "xY45o7knF_BQ"
      },
      "execution_count": 111,
      "outputs": []
    },
    {
      "cell_type": "code",
      "source": [
        "# Ordenar los modelos por mejor resultado de perplejidad\n",
        "sorted_history_ppl_results = dict(sorted(history_ppl_results_mins.items(), key=lambda item: item[1]))\n",
        "\n",
        "print(sorted_history_ppl_results)"
      ],
      "metadata": {
        "colab": {
          "base_uri": "https://localhost:8080/"
        },
        "id": "mLECf2cK14U-",
        "outputId": "e2ad2754-0831-472f-ef29-692290ae13f4"
      },
      "execution_count": 112,
      "outputs": [
        {
          "output_type": "stream",
          "name": "stdout",
          "text": [
            "{1: 1325.1683079885163, 2: 1328.258328152155, 3: 1463.3687163065695}\n"
          ]
        }
      ]
    },
    {
      "cell_type": "code",
      "source": [
        "ppls = list(sorted_history_ppl_results.values())\n",
        "exps = ['1-LSTM', '2-GRU', '3-RNN']\n",
        "\n",
        "colormap = plt.cm.viridis\n",
        "colors = colormap(np.linspace(0, 1, len(ppls)))\n",
        "\n",
        "plt.figure(figsize=(10, 5))\n",
        "plt.barh(exps, ppls, color=colors, height=0.3)\n",
        "plt.xlabel('Perplejidad mínima')\n",
        "plt.ylabel('Modelo')\n",
        "plt.title(f'Resultados de entrenamiento')\n",
        "plt.xticks(rotation=45)\n",
        "plt.show()\n"
      ],
      "metadata": {
        "colab": {
          "base_uri": "https://localhost:8080/",
          "height": 508
        },
        "id": "RPwxr6K1wwcl",
        "outputId": "0407674d-85fd-438d-e0b6-6d750d05a6aa"
      },
      "execution_count": 113,
      "outputs": [
        {
          "output_type": "display_data",
          "data": {
            "text/plain": [
              "<Figure size 1000x500 with 1 Axes>"
            ],
            "image/png": "[encoded data removed]"
          },
          "metadata": {}
        }
      ]
    },
    {
      "cell_type": "markdown",
      "source": [
        "### Generación de secuencias"
      ],
      "metadata": {
        "id": "eALfU_xeDAhL"
      }
    },
    {
      "cell_type": "code",
      "source": [
        "def generate_seq(model, tokenizer, seed_text, max_length, n_words):\n",
        "    \"\"\"\n",
        "        Exec model sequence prediction\n",
        "\n",
        "        Args:\n",
        "            model (keras): modelo entrenado\n",
        "            tokenizer (keras tokenizer): tonenizer utilizado en el preprocesamiento\n",
        "            seed_text (string): texto de entrada (input_seq)\n",
        "            max_length (int): máxima longitud de la sequencia de entrada\n",
        "            n_words (int): números de palabras a agregar a la sequencia de entrada\n",
        "        returns:\n",
        "            output_text (string): sentencia con las \"n_words\" agregadas\n",
        "    \"\"\"\n",
        "    output_text = seed_text\n",
        "\t  # generate a fixed number of words\n",
        "    for _ in range(n_words):\n",
        "\t\t  # Tokenizamos\n",
        "      encoded = tokenizer.texts_to_sequences([output_text])[0]\n",
        "\n",
        "\t\t  # Si tienen distinto largo\n",
        "      encoded = pad_sequences([encoded], maxlen=max_length, padding='pre')\n",
        "\n",
        "      # Predicción softmax\n",
        "      preds = model.predict(encoded)\n",
        "\n",
        "      y_hat = np.argmax(preds[0, -1, :])\n",
        "      print(f\"Índice Predicho: {y_hat}\")\n",
        "\n",
        "      # Vamos concatenando las predicciones\n",
        "      out_word = ''\n",
        "\n",
        "      # Buscar la palabra correspondiente en el vocabulario\n",
        "      out_word = ''\n",
        "      if y_hat != 0:  # Asegurarse de que no es padding\n",
        "          for word, index in tokenizer.word_index.items():\n",
        "              if index == y_hat:\n",
        "                  out_word = word\n",
        "                  break\n",
        "\n",
        "      if out_word == '':\n",
        "          out_word = '<UNK>'  # Si no se encuentra la palabra\n",
        "\n",
        "      output_text += ' ' + out_word\n",
        "\n",
        "    return output_text\n"
      ],
      "metadata": {
        "id": "Qz6ALHOtPzDJ"
      },
      "execution_count": 114,
      "outputs": []
    },
    {
      "cell_type": "code",
      "source": [
        "# Texto semilla y cantidad de palabras\n",
        "input_text='gato negro'\n",
        "n_words = 5"
      ],
      "metadata": {
        "id": "4qZHc9hA0AFc"
      },
      "execution_count": 115,
      "outputs": []
    },
    {
      "cell_type": "code",
      "source": [
        "# Cargar modelos para inferencia\n",
        "model1 = keras.models.load_model('model_1.keras')\n",
        "model2 = keras.models.load_model('model_2.keras')\n",
        "model3 = keras.models.load_model('model_3.keras')\n",
        "\n",
        "models = {\n",
        "    'LSTM': model1,\n",
        "    'GRU': model2,\n",
        "    'RNN': model3\n",
        "}\n"
      ],
      "metadata": {
        "id": "6BXKM4tFDGYb"
      },
      "execution_count": 116,
      "outputs": []
    },
    {
      "cell_type": "code",
      "source": [
        "for arq, modeln in models.items():\n",
        "\n",
        "  print(f'\\n[{arq}]')\n",
        "  result = generate_seq(modeln, tok, input_text, max_length=max_context_size, n_words=n_words)\n",
        "  print()\n",
        "  print(result)"
      ],
      "metadata": {
        "colab": {
          "base_uri": "https://localhost:8080/"
        },
        "id": "PIe9sSqvjFlC",
        "outputId": "cf5ee546-d46d-44e2-f9a1-2940886a16b9"
      },
      "execution_count": 117,
      "outputs": [
        {
          "output_type": "stream",
          "name": "stdout",
          "text": [
            "\n",
            "[LSTM]\n",
            "\u001b[1m1/1\u001b[0m \u001b[32m━━━━━━━━━━━━━━━━━━━━\u001b[0m\u001b[37m\u001b[0m \u001b[1m0s\u001b[0m 466ms/step\n",
            "Índice Predicho: 1\n",
            "\u001b[1m1/1\u001b[0m \u001b[32m━━━━━━━━━━━━━━━━━━━━\u001b[0m\u001b[37m\u001b[0m \u001b[1m0s\u001b[0m 22ms/step\n",
            "Índice Predicho: 1\n",
            "\u001b[1m1/1\u001b[0m \u001b[32m━━━━━━━━━━━━━━━━━━━━\u001b[0m\u001b[37m\u001b[0m \u001b[1m0s\u001b[0m 23ms/step\n",
            "Índice Predicho: 1\n",
            "\u001b[1m1/1\u001b[0m \u001b[32m━━━━━━━━━━━━━━━━━━━━\u001b[0m\u001b[37m\u001b[0m \u001b[1m0s\u001b[0m 23ms/step\n",
            "Índice Predicho: 1\n",
            "\u001b[1m1/1\u001b[0m \u001b[32m━━━━━━━━━━━━━━━━━━━━\u001b[0m\u001b[37m\u001b[0m \u001b[1m0s\u001b[0m 24ms/step\n",
            "Índice Predicho: 1\n",
            "\n",
            "gato negro de de de de de\n",
            "\n",
            "[GRU]\n",
            "\u001b[1m1/1\u001b[0m \u001b[32m━━━━━━━━━━━━━━━━━━━━\u001b[0m\u001b[37m\u001b[0m \u001b[1m0s\u001b[0m 363ms/step\n",
            "Índice Predicho: 1\n",
            "\u001b[1m1/1\u001b[0m \u001b[32m━━━━━━━━━━━━━━━━━━━━\u001b[0m\u001b[37m\u001b[0m \u001b[1m0s\u001b[0m 23ms/step\n",
            "Índice Predicho: 1\n",
            "\u001b[1m1/1\u001b[0m \u001b[32m━━━━━━━━━━━━━━━━━━━━\u001b[0m\u001b[37m\u001b[0m \u001b[1m0s\u001b[0m 23ms/step\n",
            "Índice Predicho: 1\n",
            "\u001b[1m1/1\u001b[0m \u001b[32m━━━━━━━━━━━━━━━━━━━━\u001b[0m\u001b[37m\u001b[0m \u001b[1m0s\u001b[0m 22ms/step\n",
            "Índice Predicho: 1\n",
            "\u001b[1m1/1\u001b[0m \u001b[32m━━━━━━━━━━━━━━━━━━━━\u001b[0m\u001b[37m\u001b[0m \u001b[1m0s\u001b[0m 22ms/step\n",
            "Índice Predicho: 1\n",
            "\n",
            "gato negro de de de de de\n",
            "\n",
            "[RNN]\n",
            "\u001b[1m1/1\u001b[0m \u001b[32m━━━━━━━━━━━━━━━━━━━━\u001b[0m\u001b[37m\u001b[0m \u001b[1m0s\u001b[0m 240ms/step\n",
            "Índice Predicho: 1\n",
            "\u001b[1m1/1\u001b[0m \u001b[32m━━━━━━━━━━━━━━━━━━━━\u001b[0m\u001b[37m\u001b[0m \u001b[1m0s\u001b[0m 21ms/step\n",
            "Índice Predicho: 1\n",
            "\u001b[1m1/1\u001b[0m \u001b[32m━━━━━━━━━━━━━━━━━━━━\u001b[0m\u001b[37m\u001b[0m \u001b[1m0s\u001b[0m 22ms/step\n",
            "Índice Predicho: 1\n",
            "\u001b[1m1/1\u001b[0m \u001b[32m━━━━━━━━━━━━━━━━━━━━\u001b[0m\u001b[37m\u001b[0m \u001b[1m0s\u001b[0m 23ms/step\n",
            "Índice Predicho: 1\n",
            "\u001b[1m1/1\u001b[0m \u001b[32m━━━━━━━━━━━━━━━━━━━━\u001b[0m\u001b[37m\u001b[0m \u001b[1m0s\u001b[0m 20ms/step\n",
            "Índice Predicho: 1\n",
            "\n",
            "gato negro de de de de de\n"
          ]
        }
      ]
    },
    {
      "cell_type": "markdown",
      "source": [
        "Se observa que, en algunos casos, el modelo predice siempre el índice 0, lo que podría significar que no está entrenado correctamente.  Ya sea por falta de datos o entrenamiento insuficiente, si el modelo no ha aprendido bien, puede estar siempre prediciendo la clase 0 como la \"más segura\".  \n"
      ],
      "metadata": {
        "id": "TJM_m83ziMVI"
      }
    },
    {
      "cell_type": "markdown",
      "source": [
        "En los casos que sí arroja predicciones, se observa que siempre predice la palabra **\"de\"**.  \n",
        "\n",
        "De alguna manera, este comportamiento es esperable, ya que, analizando la distribución de las palabras en el texto, \"*de*\" es la palabra con mayor frecuencia dentro del corpus."
      ],
      "metadata": {
        "id": "UzP3qBcKtUCK"
      }
    },
    {
      "cell_type": "code",
      "source": [
        "# Obtener las frecuencias de las palabras en el corpus\n",
        "word_counts = Counter()\n",
        "\n",
        "for t in text:\n",
        "  word_counts.update(t.split())\n",
        "\n",
        "words, counts = zip(*word_counts.most_common())  # Palabras y frecuencias\n",
        "q_words = 50\n",
        "\n",
        "plt.figure(figsize=(20, 5))\n",
        "plt.bar(words[:q_words], counts[:q_words])  # Muestra las 'q_words' palabras más frecuentes\n",
        "plt.xticks(rotation=45)\n",
        "plt.title('Distribución de Frecuencias de las Palabras')\n",
        "plt.xlabel('Palabras')\n",
        "plt.ylabel('Frecuencia')\n",
        "plt.show()"
      ],
      "metadata": {
        "colab": {
          "base_uri": "https://localhost:8080/",
          "height": 489
        },
        "id": "jEJOemnF09N0",
        "outputId": "e1b12ce7-6b99-4d2b-d987-9b6563604266"
      },
      "execution_count": 118,
      "outputs": [
        {
          "output_type": "display_data",
          "data": {
            "text/plain": [
              "<Figure size 2000x500 with 1 Axes>"
            ],
            "image/png": "[encoded data removed]"
          },
          "metadata": {}
        }
      ]
    },
    {
      "cell_type": "markdown",
      "source": [
        "Evalúo Beam Search para poder encontrar las secuencias más probables pero aplicando ciertas restricciones."
      ],
      "metadata": {
        "id": "g7C_DgEz1LAE"
      }
    },
    {
      "cell_type": "code",
      "source": [
        "def encode(text,max_length=max_context_size):\n",
        "\n",
        "    encoded = tok.texts_to_sequences([text])[0]\n",
        "    encoded = pad_sequences([encoded], maxlen=max_length, padding='pre')\n",
        "\n",
        "    return encoded"
      ],
      "metadata": {
        "id": "QkCZU0CJteyh"
      },
      "execution_count": 119,
      "outputs": []
    },
    {
      "cell_type": "code",
      "source": [
        "def decode(seq):\n",
        "    return tok.sequences_to_texts([seq])"
      ],
      "metadata": {
        "id": "mSYBGxagtRxf"
      },
      "execution_count": 120,
      "outputs": []
    },
    {
      "cell_type": "markdown",
      "source": [
        "Beam Search es un tipo de búsqueda en anchura que limita el número de nodos explorados a un número fijo.  \n",
        "\n",
        "En lugar de explorar todas las posibles secuencias de manera exhaustiva, el algoritmo sólo mantiene un número limitado de secuencias en cada paso, lo que lo hace mucho más eficiente.\n"
      ],
      "metadata": {
        "id": "yGHQmcRs2Put"
      }
    },
    {
      "cell_type": "code",
      "source": [
        "# Selecciona candidatos para el beam search\n",
        "def select_candidates(pred, num_beams, vocab_size, history_probs, history_tokens, temp, mode):\n",
        "\n",
        "  # colectar todas las probabilidades para la siguiente búsqueda\n",
        "  pred_large = []\n",
        "\n",
        "  for idx,pp in enumerate(pred):\n",
        "    pred_large.extend(np.log(pp+1E-10)+history_probs[idx])\n",
        "\n",
        "  pred_large = np.array(pred_large)\n",
        "\n",
        "  # criterio de selección\n",
        "  if mode == 'det':\n",
        "    idx_select = np.argsort(pred_large)[::-1][:num_beams] # beam search determinista\n",
        "  elif mode == 'sto':\n",
        "    idx_select = np.random.choice(np.arange(pred_large.shape[0]), num_beams, p=softmax(pred_large/temp)) # beam search con muestreo aleatorio\n",
        "  else:\n",
        "    raise ValueError(f'Wrong selection mode. {mode} was given. det and sto are supported.')\n",
        "\n",
        "  # traducir a índices de token en el vocabulario\n",
        "  new_history_tokens = np.concatenate((np.array(history_tokens)[idx_select//vocab_size],\n",
        "                        np.array([idx_select%vocab_size]).T),\n",
        "                      axis=1)\n",
        "\n",
        "  # devolver el producto de las probabilidades (log) y la secuencia de tokens seleccionados\n",
        "  return pred_large[idx_select.astype(int)], new_history_tokens.astype(int)\n",
        "\n"
      ],
      "metadata": {
        "id": "pKBoD8E9tbqy"
      },
      "execution_count": 121,
      "outputs": []
    },
    {
      "cell_type": "code",
      "source": [
        "def beam_search(model, num_beams, num_words, input, temp=1, mode='det'):\n",
        "\n",
        "    # first iteration\n",
        "\n",
        "    # encode\n",
        "    encoded = encode(input)\n",
        "\n",
        "    # first prediction\n",
        "    y_hat = model.predict(encoded,verbose=0)[0,-1,:]\n",
        "\n",
        "    # get vocabulary size\n",
        "    vocab_size = y_hat.shape[0]\n",
        "\n",
        "    # initialize history\n",
        "    history_probs = [0]*num_beams\n",
        "    history_tokens = [encoded[0]]*num_beams\n",
        "\n",
        "    # select num_beams candidates\n",
        "    history_probs, history_tokens = select_candidates([y_hat],\n",
        "                                        num_beams,\n",
        "                                        vocab_size,\n",
        "                                        history_probs,\n",
        "                                        history_tokens,\n",
        "                                        temp,\n",
        "                                        mode)\n",
        "\n",
        "    # beam search loop\n",
        "    for i in range(num_words-1):\n",
        "\n",
        "      preds = []\n",
        "\n",
        "      for hist in history_tokens:\n",
        "\n",
        "        # actualizar secuencia de tokens\n",
        "        input_update = np.array([hist[i+1:]]).copy()\n",
        "\n",
        "        # predicción\n",
        "        y_hat = model.predict(input_update,verbose=0)[0,-1,:]\n",
        "\n",
        "        preds.append(y_hat)\n",
        "\n",
        "      history_probs, history_tokens = select_candidates(preds,\n",
        "                                                        num_beams,\n",
        "                                                        vocab_size,\n",
        "                                                        history_probs,\n",
        "                                                        history_tokens,\n",
        "                                                        temp,\n",
        "                                                        mode)\n",
        "\n",
        "    return history_tokens"
      ],
      "metadata": {
        "id": "biQmUshctmDT"
      },
      "execution_count": 122,
      "outputs": []
    },
    {
      "cell_type": "markdown",
      "source": [
        "La **temperatura** se utiliza para controlar la aleatoriedad en el proceso de selección de la siguiente palabra o token a partir de la distribución de probabilidades generada por el modelo.\n",
        "\n",
        "En el contexto de tareas de modelado de lenguaje o generación de texto, la salida del modelo es una distribución de probabilidad sobre todas las posibles palabras del vocabulario, y la temperatura ayuda a ajustar esa distribución para hacer que la selección de palabras sea más determinista o más aleatoria."
      ],
      "metadata": {
        "id": "NGVI0fnxvGEC"
      }
    },
    {
      "cell_type": "markdown",
      "source": [
        "Exploro diferentes variantes modificando parámetros:"
      ],
      "metadata": {
        "id": "rr-SA7UFAX9f"
      }
    },
    {
      "cell_type": "code",
      "source": [
        "# Predicción con beam search.\n",
        "# Se pueden cambiar los modos entre 'det' (determinista) y 'sto' (estocástico)\n",
        "# Para el caso estocástico también se puede variar la temperatura"
      ],
      "metadata": {
        "id": "cp47wn8BIEcG"
      },
      "execution_count": 123,
      "outputs": []
    },
    {
      "cell_type": "code",
      "source": [
        "input_text = 'Una noche en que regresaba a casa muy embriagado'\n",
        "\n",
        "beam_search_options = [\n",
        "    {'num_beams': 5, 'num_words': 5, 'temperature': 1, 'beam_seach_mode': 'det'},\n",
        "    {'num_beams': 5, 'num_words': 5, 'temperature': 1, 'beam_seach_mode': 'sto'},\n",
        "    {'num_beams': 5, 'num_words': 5, 'temperature': 1.5, 'beam_seach_mode': 'sto'},\n",
        "    {'num_beams': 5, 'num_words': 5, 'temperature': 0.7, 'beam_seach_mode': 'sto'},\n",
        "    {'num_beams': 5, 'num_words': 5, 'temperature': 5, 'beam_seach_mode': 'sto'},\n",
        "    {'num_beams': 5, 'num_words': 10, 'temperature': 1, 'beam_seach_mode': 'det'},\n",
        "    {'num_beams': 5, 'num_words': 10, 'temperature': 1, 'beam_seach_mode': 'sto'},\n",
        "    {'num_beams': 5, 'num_words': 10, 'temperature': 1.5, 'beam_seach_mode': 'sto'},\n",
        "    {'num_beams': 5, 'num_words': 10, 'temperature': 0.7, 'beam_seach_mode': 'sto'},\n",
        "    {'num_beams': 5, 'num_words': 10, 'temperature': 5, 'beam_seach_mode': 'sto'},\n",
        "]"
      ],
      "metadata": {
        "id": "tyROftvWVjQv"
      },
      "execution_count": 124,
      "outputs": []
    },
    {
      "cell_type": "code",
      "source": [
        "for arq, modeln in models.items():\n",
        "\n",
        "  print(f'\\n[{arq}]')\n",
        "\n",
        "  for options in beam_search_options:\n",
        "\n",
        "    outputs_beam = beam_search(modeln,\n",
        "                            num_beams=options['num_beams'],\n",
        "                            num_words=options['num_words'],\n",
        "                            input=input_text,\n",
        "                            temp=options['temperature'],\n",
        "                            mode=options['beam_seach_mode'])\n",
        "\n",
        "\n",
        "    print(f\"\\n\\nnum_beams={options['num_beams']}, num_words={options['num_words']}, temp={options['temperature']}, mode={options['beam_seach_mode']}\")\n",
        "    print(f\"--------------------------------------------------------------\")\n",
        "\n",
        "    for i in range(options['num_beams']):\n",
        "\n",
        "      print(decode(outputs_beam[i])[0])\n"
      ],
      "metadata": {
        "colab": {
          "base_uri": "https://localhost:8080/"
        },
        "id": "1sIErWO2BvR4",
        "outputId": "e2ab7443-a3b0-4785-9a06-79d4c6bac18a"
      },
      "execution_count": 125,
      "outputs": [
        {
          "output_type": "stream",
          "name": "stdout",
          "text": [
            "\n",
            "[LSTM]\n",
            "\n",
            "\n",
            "num_beams=5, num_words=5, temp=1, mode=det\n",
            "--------------------------------------------------------------\n",
            "una noche en que regresaba a casa muy embriagado\n",
            "una noche en que regresaba a casa muy embriagado de\n",
            "una noche en que regresaba a casa muy embriagado de\n",
            "una noche en que regresaba a casa muy embriagado que\n",
            "una noche en que regresaba a casa muy embriagado la\n",
            "\n",
            "\n",
            "num_beams=5, num_words=5, temp=1, mode=sto\n",
            "--------------------------------------------------------------\n",
            "una noche en que regresaba a casa muy embriagado y en la un la\n",
            "una noche en que regresaba a casa muy embriagado y en la a golpes\n",
            "una noche en que regresaba a casa muy embriagado y en la a en\n",
            "una noche en que regresaba a casa muy embriagado y en la a\n",
            "una noche en que regresaba a casa muy embriagado y en la a\n",
            "\n",
            "\n",
            "num_beams=5, num_words=5, temp=1.5, mode=sto\n",
            "--------------------------------------------------------------\n",
            "una noche en que regresaba a casa muy embriagado encontrar cuarto más de mi\n",
            "una noche en que regresaba a casa muy embriagado encontrar cuarto más de negro\n",
            "una noche en que regresaba a casa muy embriagado continuó hombre desde más blanco\n",
            "una noche en que regresaba a casa muy embriagado continuó hombre desde más saltaba\n",
            "una noche en que regresaba a casa muy embriagado encontrar cuarto más de robsy\n",
            "\n",
            "\n",
            "num_beams=5, num_words=5, temp=0.7, mode=sto\n",
            "--------------------------------------------------------------\n",
            "una noche en que regresaba a casa muy embriagado\n",
            "una noche en que regresaba a casa muy embriagado\n",
            "una noche en que regresaba a casa muy embriagado\n",
            "una noche en que regresaba a casa muy embriagado\n",
            "una noche en que regresaba a casa muy embriagado\n",
            "\n",
            "\n",
            "num_beams=5, num_words=5, temp=5, mode=sto\n",
            "--------------------------------------------------------------\n",
            "una noche en que regresaba a casa muy embriagado parecía pájaros celda líneas atravesaban\n",
            "una noche en que regresaba a casa muy embriagado parecía pájaros escondrijo corrían —¡oh\n",
            "una noche en que regresaba a casa muy embriagado parecía pájaros escondrijo coloqué edu\n",
            "una noche en que regresaba a casa muy embriagado parecía pájaros escondrijo coloqué ahora\n",
            "una noche en que regresaba a casa muy embriagado parecía pájaros celda líneas repentinamente\n",
            "\n",
            "\n",
            "num_beams=5, num_words=10, temp=1, mode=det\n",
            "--------------------------------------------------------------\n",
            "una noche en que regresaba a casa muy embriagado\n",
            "una noche en que regresaba a casa muy embriagado de\n",
            "una noche en que regresaba a casa muy embriagado de\n",
            "una noche en que regresaba a casa muy embriagado la\n",
            "una noche en que regresaba a casa muy embriagado que\n",
            "\n",
            "\n",
            "num_beams=5, num_words=10, temp=1, mode=sto\n",
            "--------------------------------------------------------------\n",
            "una noche en que regresaba a casa muy embriagado más me textos de de casa por una a más\n",
            "una noche en que regresaba a casa muy embriagado más me textos de de casa por una a sujetaba\n",
            "una noche en que regresaba a casa muy embriagado más me textos de de casa por una a era\n",
            "una noche en que regresaba a casa muy embriagado más me textos de de casa por una solidez sótanos\n",
            "una noche en que regresaba a casa muy embriagado más me textos de de casa por al textos su\n",
            "\n",
            "\n",
            "num_beams=5, num_words=10, temp=1.5, mode=sto\n",
            "--------------------------------------------------------------\n",
            "una noche en que regresaba a casa muy embriagado más buscar la perversidad hombre en mi sociales a mujer\n",
            "una noche en que regresaba a casa muy embriagado más buscar la perversidad hombre en mi mi c cuello\n",
            "una noche en que regresaba a casa muy embriagado más buscar la perversidad hombre en mi sociales a criterio\n",
            "una noche en que regresaba a casa muy embriagado más buscar la perversidad hombre en mi mi c sospechas\n",
            "una noche en que regresaba a casa muy embriagado más buscar la perversidad hombre en mi sociales a figura\n",
            "\n",
            "\n",
            "num_beams=5, num_words=10, temp=0.7, mode=sto\n",
            "--------------------------------------------------------------\n",
            "una noche en que regresaba a casa muy embriagado el\n",
            "una noche en que regresaba a casa muy embriagado el\n",
            "una noche en que regresaba a casa muy embriagado el\n",
            "una noche en que regresaba a casa muy embriagado el\n",
            "una noche en que regresaba a casa muy embriagado el\n",
            "\n",
            "\n",
            "num_beams=5, num_words=10, temp=5, mode=sto\n",
            "--------------------------------------------------------------\n",
            "una noche en que regresaba a casa muy embriagado lector abandonado de libros recuerdo embargo virilidad particularmente cadáver retrocedí\n",
            "una noche en que regresaba a casa muy embriagado lector abandonado de libros recuerdo plutón encarnada tabernero terror certeza\n",
            "una noche en que regresaba a casa muy embriagado lector abandonado de libros recuerdo plutón encarnada tabernero vago sujetaba\n",
            "una noche en que regresaba a casa muy embriagado lector abandonado de libros recuerdo embargo espíritu cal joven lectura\n",
            "una noche en que regresaba a casa muy embriagado lector abandonado de libros recuerdo embargo espíritu cal falsa ¡ay\n",
            "\n",
            "[GRU]\n",
            "\n",
            "\n",
            "num_beams=5, num_words=5, temp=1, mode=det\n",
            "--------------------------------------------------------------\n",
            "una noche en que regresaba a casa muy embriagado\n",
            "una noche en que regresaba a casa muy embriagado de\n",
            "una noche en que regresaba a casa muy embriagado de\n",
            "una noche en que regresaba a casa muy embriagado que\n",
            "una noche en que regresaba a casa muy embriagado y\n",
            "\n",
            "\n",
            "num_beams=5, num_words=5, temp=1, mode=sto\n",
            "--------------------------------------------------------------\n",
            "una noche en que regresaba a casa muy embriagado el labor también mi noche\n",
            "una noche en que regresaba a casa muy embriagado el labor también mi flaqueza\n",
            "una noche en que regresaba a casa muy embriagado el labor también mi textos\n",
            "una noche en que regresaba a casa muy embriagado el labor también mi\n",
            "una noche en que regresaba a casa muy embriagado el labor también mi gradualmente\n",
            "\n",
            "\n",
            "num_beams=5, num_words=5, temp=1.5, mode=sto\n",
            "--------------------------------------------------------------\n",
            "una noche en que regresaba a casa muy embriagado defienda laceraba para ciegamente plutón\n",
            "una noche en que regresaba a casa muy embriagado defienda pronto no recogí calles\n",
            "una noche en que regresaba a casa muy embriagado defienda laceraba para ciegamente terror\n",
            "una noche en que regresaba a casa muy embriagado defienda pronto no recogí expediente\n",
            "una noche en que regresaba a casa muy embriagado defienda laceraba para ciegamente calles\n",
            "\n",
            "\n",
            "num_beams=5, num_words=5, temp=0.7, mode=sto\n",
            "--------------------------------------------------------------\n",
            "una noche en que regresaba a casa muy embriagado\n",
            "una noche en que regresaba a casa muy embriagado\n",
            "una noche en que regresaba a casa muy embriagado\n",
            "una noche en que regresaba a casa muy embriagado\n",
            "una noche en que regresaba a casa muy embriagado\n",
            "\n",
            "\n",
            "num_beams=5, num_words=5, temp=5, mode=sto\n",
            "--------------------------------------------------------------\n",
            "una noche en que regresaba a casa muy embriagado nuestros haya certeza nuestra dejaron\n",
            "una noche en que regresaba a casa muy embriagado nuestros haya certeza nuestra nivelarla\n",
            "una noche en que regresaba a casa muy embriagado aspecto haciéndome imaginar recuerdo se\n",
            "una noche en que regresaba a casa muy embriagado nuestros haya certeza nuestra colocar\n",
            "una noche en que regresaba a casa muy embriagado nuestros haya certeza nuestra o\n",
            "\n",
            "\n",
            "num_beams=5, num_words=10, temp=1, mode=det\n",
            "--------------------------------------------------------------\n",
            "una noche en que regresaba a casa muy embriagado\n",
            "una noche en que regresaba a casa muy embriagado de\n",
            "una noche en que regresaba a casa muy embriagado de\n",
            "una noche en que regresaba a casa muy embriagado que\n",
            "una noche en que regresaba a casa muy embriagado y\n",
            "\n",
            "\n",
            "num_beams=5, num_words=10, temp=1, mode=sto\n",
            "--------------------------------------------------------------\n",
            "una noche en que regresaba a casa muy embriagado\n",
            "una noche en que regresaba a casa muy embriagado\n",
            "una noche en que regresaba a casa muy embriagado\n",
            "una noche en que regresaba a casa muy embriagado\n",
            "una noche en que regresaba a casa muy embriagado\n",
            "\n",
            "\n",
            "num_beams=5, num_words=10, temp=1.5, mode=sto\n",
            "--------------------------------------------------------------\n",
            "una noche en que regresaba a casa muy embriagado de alma relación del hombre de que del de 2016\n",
            "una noche en que regresaba a casa muy embriagado de alma relación del hombre de que del procurándome\n",
            "una noche en que regresaba a casa muy embriagado de alma relación del hombre de que del de percibir\n",
            "una noche en que regresaba a casa muy embriagado de alma relación del hombre de que del de gruesa\n",
            "una noche en que regresaba a casa muy embriagado de alma relación del hombre de que del de esposa\n",
            "\n",
            "\n",
            "num_beams=5, num_words=10, temp=0.7, mode=sto\n",
            "--------------------------------------------------------------\n",
            "una noche en que regresaba a casa muy embriagado de de y\n",
            "una noche en que regresaba a casa muy embriagado de de y\n",
            "una noche en que regresaba a casa muy embriagado de de y\n",
            "una noche en que regresaba a casa muy embriagado de de y\n",
            "una noche en que regresaba a casa muy embriagado de de y\n",
            "\n",
            "\n",
            "num_beams=5, num_words=10, temp=5, mode=sto\n",
            "--------------------------------------------------------------\n",
            "una noche en que regresaba a casa muy embriagado continuaba ya vino pelo la posición retrocedí convertidas cubierto ternura\n",
            "una noche en que regresaba a casa muy embriagado continuaba ya vino pelo la eternamente siquiera ni en cubría\n",
            "una noche en que regresaba a casa muy embriagado continuaba ya vino pelo la eternamente siquiera ni en morir\n",
            "una noche en que regresaba a casa muy embriagado continuaba ya vino pelo la eternamente siquiera compelía años naturalmente\n",
            "una noche en que regresaba a casa muy embriagado continuaba ya vino pelo la posición retrocedí convertidas tal barril\n",
            "\n",
            "[RNN]\n",
            "\n",
            "\n",
            "num_beams=5, num_words=5, temp=1, mode=det\n",
            "--------------------------------------------------------------\n",
            "una noche en que regresaba a casa muy embriagado de de de de de\n",
            "una noche en que regresaba a casa muy embriagado de de de de la\n",
            "una noche en que regresaba a casa muy embriagado de de de de y\n",
            "una noche en que regresaba a casa muy embriagado de de de y de\n",
            "una noche en que regresaba a casa muy embriagado de de y de de\n",
            "\n",
            "\n",
            "num_beams=5, num_words=5, temp=1, mode=sto\n",
            "--------------------------------------------------------------\n",
            "una noche en que regresaba a casa muy embriagado me nuestros y islas refrenarlo\n",
            "una noche en que regresaba a casa muy embriagado me nuestros y de de\n",
            "una noche en que regresaba a casa muy embriagado me nuestros y de animal\n",
            "una noche en que regresaba a casa muy embriagado me nuestros y de gradualmente\n",
            "una noche en que regresaba a casa muy embriagado me nuestros y de me\n",
            "\n",
            "\n",
            "num_beams=5, num_words=5, temp=1.5, mode=sto\n",
            "--------------------------------------------------------------\n",
            "una noche en que regresaba a casa muy embriagado mi alma ayúdanos haber objeto\n",
            "una noche en que regresaba a casa muy embriagado mi alma ayúdanos cuarto había\n",
            "una noche en que regresaba a casa muy embriagado una pronto hiciera en muchedumbre\n",
            "una noche en que regresaba a casa muy embriagado mi alma ayúdanos cuarto ¡mi\n",
            "una noche en que regresaba a casa muy embriagado una pronto hiciera en sufrir\n",
            "\n",
            "\n",
            "num_beams=5, num_words=5, temp=0.7, mode=sto\n",
            "--------------------------------------------------------------\n",
            "una noche en que regresaba a casa muy embriagado de y mi a había\n",
            "una noche en que regresaba a casa muy embriagado de y mi a crimen\n",
            "una noche en que regresaba a casa muy embriagado de y mi a de\n",
            "una noche en que regresaba a casa muy embriagado de y mi a alma\n",
            "una noche en que regresaba a casa muy embriagado de y mi a marca\n",
            "\n",
            "\n",
            "num_beams=5, num_words=5, temp=5, mode=sto\n",
            "--------------------------------------------------------------\n",
            "una noche en que regresaba a casa muy embriagado temperamento pero recorrido remover ofrecía\n",
            "una noche en que regresaba a casa muy embriagado a cabecera causada indudablemente recientemente\n",
            "una noche en que regresaba a casa muy embriagado temperamento pero encontraba llamas ley\n",
            "una noche en que regresaba a casa muy embriagado temperamento pero recorrido remover me\n",
            "una noche en que regresaba a casa muy embriagado temperamento pero encontraba llamas cosa\n",
            "\n",
            "\n",
            "num_beams=5, num_words=10, temp=1, mode=det\n",
            "--------------------------------------------------------------\n",
            "una noche en que regresaba a casa muy embriagado de de de de de de de de de de\n",
            "una noche en que regresaba a casa muy embriagado de de de de de de de de de la\n",
            "una noche en que regresaba a casa muy embriagado de de de de de de de de de y\n",
            "una noche en que regresaba a casa muy embriagado de de y de de de de de de de\n",
            "una noche en que regresaba a casa muy embriagado de de de y de de de de de de\n",
            "\n",
            "\n",
            "num_beams=5, num_words=10, temp=1, mode=sto\n",
            "--------------------------------------------------------------\n",
            "una noche en que regresaba a casa muy embriagado de se figura el de la y para de un\n",
            "una noche en que regresaba a casa muy embriagado de se figura el de la y para que había\n",
            "una noche en que regresaba a casa muy embriagado de se figura el de la y para de casa\n",
            "una noche en que regresaba a casa muy embriagado de se figura el de la y para de mi\n",
            "una noche en que regresaba a casa muy embriagado de se figura el de la y para de del\n",
            "\n",
            "\n",
            "num_beams=5, num_words=10, temp=1.5, mode=sto\n",
            "--------------------------------------------------------------\n",
            "una noche en que regresaba a casa muy embriagado se pdf puedes su pdf que de deleznable del buscar\n",
            "una noche en que regresaba a casa muy embriagado se pdf puedes su pdf que de deleznable del publicado\n",
            "una noche en que regresaba a casa muy embriagado se pdf puedes su pdf que de deleznable del al\n",
            "una noche en que regresaba a casa muy embriagado se pdf puedes su pdf que de deleznable del antipatía\n",
            "una noche en que regresaba a casa muy embriagado se pdf puedes su pdf que de continua españa cabeza\n",
            "\n",
            "\n",
            "num_beams=5, num_words=10, temp=0.7, mode=sto\n",
            "--------------------------------------------------------------\n",
            "una noche en que regresaba a casa muy embriagado\n",
            "una noche en que regresaba a casa muy embriagado\n",
            "una noche en que regresaba a casa muy embriagado\n",
            "una noche en que regresaba a casa muy embriagado\n",
            "una noche en que regresaba a casa muy embriagado\n",
            "\n",
            "\n",
            "num_beams=5, num_words=10, temp=5, mode=sto\n",
            "--------------------------------------------------------------\n",
            "una noche en que regresaba a casa muy embriagado ruinas forma a idea sacudir veces excitaron límites preparé menorca\n",
            "una noche en que regresaba a casa muy embriagado ruinas forma a idea sacudir veces asumido resolvía existía precipitar\n",
            "una noche en que regresaba a casa muy embriagado ruinas forma a idea sacudir veces excitaron viejo vuestras escondrijo\n",
            "una noche en que regresaba a casa muy embriagado ruinas forma a idea sacudir veces excitaron límites particularmente cuando\n",
            "una noche en que regresaba a casa muy embriagado ruinas forma a idea sacudir veces excitaron límites preparé sería\n"
          ]
        }
      ]
    },
    {
      "cell_type": "markdown",
      "source": [
        "### Conclusiones"
      ],
      "metadata": {
        "id": "vHsakbfFaDv7"
      }
    },
    {
      "cell_type": "markdown",
      "source": [
        "* Temperatura = 1: La distribución de probabilidades se mantiene sin cambios, generando texto de acuerdo con las probabilidades originales del modelo.\n",
        "Se observa que, cuando se utiliza método determinista o bien, estocástico con temperatura 1, los modelos tienden a generar las palabras de más presencia en el corpus ('de', 'y', 'la'...).  \n",
        "<br>\n",
        "\n",
        "* Temperatura baja (T < 1): Hace que las predicciones sean más deterministas y coherentes. El modelo selecciona palabras más predecibles y comunes.  \n",
        "Sin embargo, en este caso se observa, que al usar temperaturas más bajas (0.7),\n",
        "en algunos casos no predice palabra alguna.\n",
        "Esto puede darse por que, en este escenario lo que ocurre es que el modelo se vuelve extremadamente determinista, favoreciendo casi exclusivamente la palabra con la probabilidad más alta en cada paso. Si la probabilidad de la siguiente palabra es demasiado baja (o si la probabilidad de todas las palabras es casi la misma), el modelo tiende a \"atascarse\" sin poder elegir una palabra válida o coherente.\n",
        "<br>\n",
        "\n",
        "\n",
        "* Temperatura alta (T > 1): Hace que las predicciones sean más estocásticas, diversas y creativas, pero con el riesgo de generar secuencias menos coherentes.  \n",
        "En los ejemplos se observa que, estos son los escenarios en donde más variedad de respuestas hay, las diferencias en las probabilidades se reducen más, lo que permite que el modelo elija palabras menos probables con más frecuencia.   \n",
        "Este tipo de ajuste puede hace que el texto generado sea interesante y original, pero también puede hacer que pierda coherencia o fluidez.  \n",
        "Cuanto más alta es la temperaturas, el modelo comienza a seleccionar casi aleatoriamente palabras de la distribución de salida sin tener en cuenta las probabilidades anteriores de las palabras.   \n",
        "Esto puede hacer que el texto generado sea muy desordenado o incluso totalmente aleatorio, observándose entonces que pierde coherencia semántica o sintáctica.\n",
        "\n",
        "<br>\n",
        "\n",
        "En particular, en el contexto de este corpus, se ve que las secuencias de texto no resultan muy coherentes a pesar de usar una temperatura más baja.  \n",
        "Normalmente, una temperatura baja debería hacer que el modelo se enfoque en las predicciones más probables y generar un texto más coherente y determinista.   Sin embargo, hay varios factores que pueden explicar por qué el modelo sigue generando texto incoherente, incluso con una temperatura baja.   \n",
        "\n",
        "Por ejemplo:  \n",
        "\n",
        "* Los modelos entrenados no tienen la calidad suficiente, no son lo suficientemente grandes, y el vocabulario es bastante limitado, por lo que, no se logra desarrollar la capacidad de generar secuencias de texto altamente coherentes.\n",
        "\n",
        "* Se observó en el corpus de entrenamiento que hay una alta frecuencia de ciertas palabras por sobre otras.  Se ve que los modelos fueron entrenados principalmente con texto que contiene muchas palabras de uso común (como \"de\", \"y\", \"la\", \"el\", \"que\"), es altamente probable que esas palabras aparezcan con mayor frecuencia en las predicciones, incluso si no tienen un significado específico en el contexto.\n"
      ],
      "metadata": {
        "id": "h9vyrt6vbBWt"
      }
    }
  ]
}